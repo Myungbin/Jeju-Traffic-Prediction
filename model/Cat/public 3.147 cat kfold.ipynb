{
 "cells": [
  {
   "cell_type": "code",
   "execution_count": 1,
   "metadata": {},
   "outputs": [
    {
     "name": "stdout",
     "output_type": "stream",
     "text": [
      "시작시간: 2022-10-17 17:08:17.103751\n",
      "Train dataset success !\n",
      "Test dataset success !\n",
      "끝난 시간:  0:01:06.058098\n"
     ]
    }
   ],
   "source": [
    "from sklearn.model_selection import train_test_split\n",
    "from sklearn.metrics import mean_absolute_error\n",
    "from xgboost import XGBRegressor\n",
    "from dataset import make_dataset\n",
    "from os.path import join\n",
    "\n",
    "\n",
    "train_path = join('jeju_data', 'train_new.parquet')\n",
    "test_path = join('jeju_data', 'test_new.parquet')\n",
    "\n",
    "x_train, y_train, test = make_dataset(train_path, test_path)"
   ]
  },
  {
   "cell_type": "code",
   "execution_count": 2,
   "metadata": {},
   "outputs": [],
   "source": [
    "import pandas as pd\n",
    "\n",
    "X = x_train.copy()\n",
    "y = y_train.copy()\n",
    "sample_submission = pd.read_csv('./jeju_data/sample_submission.csv')"
   ]
  },
  {
   "cell_type": "markdown",
   "metadata": {},
   "source": [
    "Best trial {'learning_rate': 0.047360814959130804, 'bagging_temperature': 40.52044595178952, 'n_estimators': 3830, 'max_depth': 16, 'random_strength': 86, 'colsample_bylevel': 0.4129957917974832, 'l2_leaf_reg': 1.7654281892238895e-05, 'min_child_samples': 24, 'max_bin': 378, 'od_type': 'Iter'}\n"
   ]
  },
  {
   "cell_type": "code",
   "execution_count": 1,
   "metadata": {},
   "outputs": [],
   "source": [
    "params = {'learning_rate': 0.047360814959130804, 'bagging_temperature': 40.52044595178952, 'n_estimators': 3830, 'max_depth': 16, 'random_strength': 86, 'colsample_bylevel': 0.4129957917974832, 'l2_leaf_reg': 1.7654281892238895e-05, 'min_child_samples': 24, 'max_bin': 378, 'od_type': 'Iter'}\n",
    "\n",
    "\n",
    "from sklearn.model_selection import StratifiedKFold\n",
    "from catboost import CatBoostRegressor\n",
    "from sklearn.metrics import mean_absolute_error\n",
    "\n",
    "skf = StratifiedKFold(n_splits=5, shuffle=True, random_state=42)\n",
    "\n",
    "folds = []\n",
    "\n",
    "for train_idx, val_idx in skf.split(X, y):\n",
    "    folds.append((train_idx, val_idx))\n",
    "\n",
    "CAT_model= {}\n",
    "\n",
    "for f in range(5):\n",
    "      print(f'===================================={f+1}============================================')\n",
    "      train_idx, val_idx = folds[f]\n",
    "      \n",
    "      x_train, x_val, y_train, y_val = X.iloc[train_idx], X.iloc[val_idx], y.iloc[train_idx], y.iloc[val_idx]\n",
    "      \n",
    "      CAT = CatBoostRegressor(**params)\n",
    "      CAT.fit(x_train, y_train)\n",
    "      \n",
    "      y_pred = CAT.predict(x_val)\n",
    "      mae = mean_absolute_error(y_val, y_pred)\n",
    "      print(f\"{f + 1} Fold MAE = {mae}\")\n",
    "      CAT_model[f] = CAT\n",
    "      print(f'================================================================================\\n\\n')\n",
    "              \n",
    "\n",
    "\n",
    "for fold in range(5):\n",
    "    sample_submission['target'] += CAT_model[fold].predict(test)/5    \n",
    "\n",
    "\n"
   ]
  },
  {
   "cell_type": "code",
   "execution_count": null,
   "metadata": {},
   "outputs": [],
   "source": [
    "sample_submission.to_csv(\"./submit_cat_kfold.csv\", index=False)"
   ]
  }
 ],
 "metadata": {
  "kernelspec": {
   "display_name": "Python 3.8.12 ('base')",
   "language": "python",
   "name": "python3"
  },
  "language_info": {
   "codemirror_mode": {
    "name": "ipython",
    "version": 3
   },
   "file_extension": ".py",
   "mimetype": "text/x-python",
   "name": "python",
   "nbconvert_exporter": "python",
   "pygments_lexer": "ipython3",
   "version": "3.8.12"
  },
  "orig_nbformat": 4,
  "vscode": {
   "interpreter": {
    "hash": "dc9e9ccc36c3c53c869f9efb4dbe658a531f8632eda95f2a2a2973ff10f33bd1"
   }
  }
 },
 "nbformat": 4,
 "nbformat_minor": 2
}
