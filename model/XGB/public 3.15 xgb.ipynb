{
 "cells": [
  {
   "cell_type": "code",
   "execution_count": 1,
   "metadata": {},
   "outputs": [
    {
     "name": "stdout",
     "output_type": "stream",
     "text": [
      "Start time:  2022-10-20 11:37:46.178534\n",
      "Train dataset success !\n",
      "Test dataset success !\n",
      "End time: 2022-10-20 11:38:52.505503\n",
      "Play time:  0:01:06.326969\n"
     ]
    }
   ],
   "source": [
    "from sklearn.model_selection import train_test_split\n",
    "from sklearn.metrics import mean_absolute_error\n",
    "from xgboost import XGBRegressor\n",
    "from dataset import make_dataset\n",
    "from os.path import join\n",
    "\n",
    "\n",
    "train_path = join('jeju_data', 'train_new.parquet')\n",
    "test_path = join('jeju_data', 'test_new.parquet')\n",
    "\n",
    "x_train, y_train, test = make_dataset(train_path, test_path)"
   ]
  },
  {
   "cell_type": "code",
   "execution_count": 2,
   "metadata": {},
   "outputs": [],
   "source": [
    "X = x_train.copy()\n",
    "y = y_train.copy()\n",
    "\n",
    "# x_train, x_val, y_train, y_val = train_test_split(x_train, y_train, test_size=0.2, shuffle=True, random_state=1103)"
   ]
  },
  {
   "cell_type": "code",
   "execution_count": 1,
   "metadata": {},
   "outputs": [],
   "source": [
    "# import optuna\n",
    "# from optuna import Trial\n",
    "# from optuna.samplers import TPESampler\n",
    "\n",
    "\n",
    "# def objective_xgb(trial: Trial, x, y):\n",
    "#     params = {\n",
    "#         \"n_estimators\": trial.suggest_int('n_estimators', 500, 5000),\n",
    "#         'max_depth': trial.suggest_int('max_depth', 8, 16),\n",
    "#         'min_child_weight': trial.suggest_int('min_child_weight', 1, 300),\n",
    "#         'gamma': trial.suggest_int('gamma', 1, 3),\n",
    "#         'learning_rate': trial.suggest_categorical('learning_rate', [0.008,0.01,0.012,0.014,0.016,0.018, 0.02]),\n",
    "#         \"colsample_bytree\": trial.suggest_float(\"colsample_bytree\", 0.5, 1.0),\n",
    "#         'lambda': trial.suggest_loguniform('lambda', 1e-3, 10.0),\n",
    "#         'alpha': trial.suggest_loguniform('alpha', 1e-3, 10.0),\n",
    "#         'subsample': trial.suggest_categorical('subsample', [0.6, 0.7, 0.8, 1.0]),\n",
    "#         'random_state': 42\n",
    "#     }\n",
    "\n",
    "#     x_train, x_val, y_train, y_val = train_test_split(x, y, test_size=0.2)\n",
    "\n",
    "#     model = XGBRegressor(**params, tree_method='gpu_hist', gpu_id=0)\n",
    "#     xgb_model = model.fit(x_train, y_train, verbose=False, eval_set=[(x_val, y_val)], early_stopping_rounds=50)\n",
    "#     y_pred = xgb_model.predict(x_val)\n",
    "#     score = mean_absolute_error(y_val, y_pred)\n",
    "\n",
    "#     return score\n",
    "\n",
    "\n",
    "# study = optuna.create_study(direction='minimize', sampler=TPESampler())\n",
    "# study.optimize(lambda trial: objective_xgb(trial, X, y), n_trials=100)\n",
    "# print('Best trial: score {},\\nparams {}'.format(study.best_trial.value, study.best_trial.params))\n",
    "\n",
    "# params = study.best_trial.params\n",
    "# xgb_model = XGBRegressor(**params, tree_method='gpu_hist', gpu_id=0).fit(x_train, y_train)\n",
    "# y_pred = xgb_model.predict(test)\n",
    "\n",
    "# import pandas as pd\n",
    "\n",
    "# sample_submission = pd.read_csv('./jeju_data/sample_submission.csv')\n",
    "# sample_submission['target'] = y_pred\n",
    "# sample_submission.to_csv(\"./submit_xgb_optuna.csv\", index=False)"
   ]
  },
  {
   "cell_type": "code",
   "execution_count": 10,
   "metadata": {},
   "outputs": [],
   "source": [
    "param = {'n_estimators': 3516, 'max_depth': 16, 'min_child_weight': 65, 'gamma': 2, 'learning_rate': 0.016, 'colsample_bytree': 0.6669214248431368, 'lambda': 2.4870659647843234, 'alpha': 0.37341889508206516, 'subsample': 0.7}\n",
    "\n",
    "xgb_model = XGBRegressor(**param, tree_method='gpu_hist', gpu_id=0).fit(x_train, y_train)\n",
    "y_pred = xgb_model.predict(test)\n",
    "\n",
    "import pandas as pd\n",
    "\n",
    "sample_submission = pd.read_csv('./jeju_data/sample_submission.csv')\n",
    "sample_submission['target'] = y_pred\n",
    "sample_submission.to_csv(\"./submit_xgbealy.csv\", index=False)"
   ]
  },
  {
   "cell_type": "code",
   "execution_count": 12,
   "metadata": {},
   "outputs": [],
   "source": [
    "df_imp = pd.DataFrame({'imp':xgb_model.feature_importances_}, index = xgb_model.feature_names_in_)\n",
    "df_imp = df_imp[df_imp.imp > 0].sort_values('imp').copy()"
   ]
  },
  {
   "cell_type": "code",
   "execution_count": 18,
   "metadata": {},
   "outputs": [],
   "source": [
    "b = pd.read_csv(\"public 3.17 cat_optuna.csv\")"
   ]
  },
  {
   "cell_type": "code",
   "execution_count": 17,
   "metadata": {},
   "outputs": [],
   "source": [
    "a = pd.read_csv('submit_xgbealy.csv')"
   ]
  },
  {
   "cell_type": "code",
   "execution_count": 19,
   "metadata": {},
   "outputs": [],
   "source": [
    "c = (a['target']*0.5) + (b['target']*0.5)\n",
    "sample_submission = pd.read_csv('./jeju_data/sample_submission.csv')\n",
    "sample_submission['target'] = c\n",
    "sample_submission.to_csv(\"./submit.csv\", index=False)"
   ]
  }
 ],
 "metadata": {
  "kernelspec": {
   "display_name": "Python 3.8.12 ('base')",
   "language": "python",
   "name": "python3"
  },
  "language_info": {
   "codemirror_mode": {
    "name": "ipython",
    "version": 3
   },
   "file_extension": ".py",
   "mimetype": "text/x-python",
   "name": "python",
   "nbconvert_exporter": "python",
   "pygments_lexer": "ipython3",
   "version": "3.8.12"
  },
  "orig_nbformat": 4,
  "vscode": {
   "interpreter": {
    "hash": "dc9e9ccc36c3c53c869f9efb4dbe658a531f8632eda95f2a2a2973ff10f33bd1"
   }
  }
 },
 "nbformat": 4,
 "nbformat_minor": 2
}
