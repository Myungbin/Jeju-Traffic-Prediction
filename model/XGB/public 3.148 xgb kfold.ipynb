{
 "cells": [
  {
   "cell_type": "code",
   "execution_count": 1,
   "metadata": {},
   "outputs": [
    {
     "name": "stdout",
     "output_type": "stream",
     "text": [
      "Start time:  2022-10-21 19:02:01.254253\n",
      "Train dataset success !\n",
      "Test dataset success !\n",
      "End time: 2022-10-21 19:03:14.690836\n",
      "Play time:  0:01:13.436583\n"
     ]
    }
   ],
   "source": [
    "from sklearn.model_selection import train_test_split\n",
    "from sklearn.metrics import mean_absolute_error\n",
    "from xgboost import XGBRegressor\n",
    "from dataset import make_dataset\n",
    "from os.path import join\n",
    "\n",
    "\n",
    "train_path = join('jeju_data', 'train_new.parquet')\n",
    "test_path = join('jeju_data', 'test_new.parquet')\n",
    "\n",
    "x_train, y_train, test = make_dataset(train_path, test_path)"
   ]
  },
  {
   "cell_type": "code",
   "execution_count": 2,
   "metadata": {},
   "outputs": [],
   "source": [
    "import pandas as pd\n",
    "X = x_train.copy()\n",
    "y = y_train.copy()\n",
    "sample_submission = pd.read_csv('./jeju_data/sample_submission.csv')"
   ]
  },
  {
   "cell_type": "code",
   "execution_count": 3,
   "metadata": {},
   "outputs": [
    {
     "name": "stderr",
     "output_type": "stream",
     "text": [
      "c:\\Python\\Python38\\lib\\site-packages\\sklearn\\model_selection\\_split.py:680: UserWarning: The least populated class in y has only 1 members, which is less than n_splits=5.\n",
      "  warnings.warn(\n"
     ]
    },
    {
     "name": "stdout",
     "output_type": "stream",
     "text": [
      "====================================1============================================\n",
      "1 Fold MAE = 3.0283268018311014\n",
      "================================================================================\n",
      "\n",
      "\n",
      "====================================2============================================\n",
      "2 Fold MAE = 3.0270055000116165\n",
      "================================================================================\n",
      "\n",
      "\n",
      "====================================3============================================\n",
      "3 Fold MAE = 3.0239337196073888\n",
      "================================================================================\n",
      "\n",
      "\n",
      "====================================4============================================\n",
      "4 Fold MAE = 3.0238305812440927\n",
      "================================================================================\n",
      "\n",
      "\n",
      "====================================5============================================\n",
      "5 Fold MAE = 3.022662355461429\n",
      "================================================================================\n",
      "\n",
      "\n"
     ]
    }
   ],
   "source": [
    "from sklearn.model_selection import StratifiedKFold\n",
    "from xgboost import XGBRegressor\n",
    "from sklearn.metrics import mean_absolute_error\n",
    "\n",
    "\n",
    "param = {'n_estimators': 3516, 'max_depth': 16, 'min_child_weight': 65, 'gamma': 2, 'learning_rate': 0.016, 'colsample_bytree': 0.6669214248431368, 'lambda': 2.4870659647843234, 'alpha': 0.37341889508206516, 'subsample': 0.7}\n",
    "\n",
    "skf = StratifiedKFold(n_splits=5, shuffle=True, random_state=42)\n",
    "\n",
    "folds = []\n",
    "\n",
    "for train_idx, val_idx in skf.split(X, y):\n",
    "    folds.append((train_idx, val_idx))\n",
    "\n",
    "XGB_model= {}\n",
    "\n",
    "for f in range(5):\n",
    "      print(f'===================================={f+1}============================================')\n",
    "      train_idx, val_idx = folds[f]\n",
    "      \n",
    "      x_train, x_val, y_train, y_val = X.iloc[train_idx], X.iloc[val_idx], y.iloc[train_idx], y.iloc[val_idx]\n",
    "      \n",
    "      XGB = XGBRegressor(**param, tree_method='gpu_hist', gpu_id=0)\n",
    "      XGB.fit(x_train, y_train)\n",
    "      \n",
    "      y_pred = XGB.predict(x_val)\n",
    "      mae = mean_absolute_error(y_val, y_pred)\n",
    "      print(f\"{f + 1} Fold MAE = {mae}\")\n",
    "      XGB_model[f] = XGB\n",
    "      print(f'================================================================================\\n\\n')\n",
    "              \n",
    "\n",
    "\n",
    "for fold in range(5):\n",
    "    sample_submission['target'] += XGB_model[fold].predict(test)/5    "
   ]
  },
  {
   "cell_type": "code",
   "execution_count": 4,
   "metadata": {},
   "outputs": [],
   "source": [
    "sample_submission.to_csv(\"./submit_xgb_fold.csv\", index=False)"
   ]
  },
  {
   "cell_type": "code",
   "execution_count": 9,
   "metadata": {},
   "outputs": [],
   "source": [
    "xgb = pd.read_csv('submit_xgb_fold.csv')\n",
    "cat = pd.read_csv('submit_cat_kfold.csv')"
   ]
  },
  {
   "cell_type": "code",
   "execution_count": 10,
   "metadata": {},
   "outputs": [],
   "source": [
    "pred = (xgb['target']*0.5) + (cat['target']*0.5)\n",
    "sample_submission = pd.read_csv('./jeju_data/sample_submission.csv')\n",
    "sample_submission['target'] = pred\n",
    "sample_submission.to_csv(\"./submit_fold_sum.csv\", index=False)"
   ]
  }
 ],
 "metadata": {
  "kernelspec": {
   "display_name": "Python 3.8.10 64-bit",
   "language": "python",
   "name": "python3"
  },
  "language_info": {
   "codemirror_mode": {
    "name": "ipython",
    "version": 3
   },
   "file_extension": ".py",
   "mimetype": "text/x-python",
   "name": "python",
   "nbconvert_exporter": "python",
   "pygments_lexer": "ipython3",
   "version": "3.8.10"
  },
  "orig_nbformat": 4,
  "vscode": {
   "interpreter": {
    "hash": "b081a66ee97bd2b6a16f43955f1d810b7ea816d6eaeb65e157ef9e038445f0c6"
   }
  }
 },
 "nbformat": 4,
 "nbformat_minor": 2
}
