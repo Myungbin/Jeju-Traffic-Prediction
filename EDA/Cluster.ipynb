{
 "cells": [
  {
   "cell_type": "code",
   "execution_count": 1,
   "metadata": {},
   "outputs": [],
   "source": [
    "import pandas as pd \n",
    "from xgboost import XGBRegressor\n",
    "from sklearn.model_selection import train_test_split\n",
    "from sklearn.preprocessing import LabelEncoder\n",
    "from sklearn.metrics import mean_absolute_error\n",
    "from lightgbm import LGBMRegressor\n",
    "from dataset_cluster_xgb import make_dataset\n",
    "from os.path import join"
   ]
  },
  {
   "cell_type": "code",
   "execution_count": 167,
   "metadata": {},
   "outputs": [
    {
     "name": "stdout",
     "output_type": "stream",
     "text": [
      "Start time:  2022-10-26 12:44:54.683660\n",
      "Train dataset success !\n",
      "Test dataset success !\n",
      "End time: 2022-10-26 12:46:40.472611\n",
      "Play time:  0:01:45.788951\n"
     ]
    }
   ],
   "source": [
    "train_path = join('jeju_data', 'train_new.parquet')\n",
    "test_path = join('jeju_data', 'test_new.parquet')\n",
    "\n",
    "X, y, test = make_dataset(train_path, test_path)"
   ]
  },
  {
   "cell_type": "code",
   "execution_count": 169,
   "metadata": {},
   "outputs": [],
   "source": [
    "x_train, x_val, y_train, y_val = train_test_split(X, y, test_size=0.3, random_state=42)"
   ]
  },
  {
   "cell_type": "code",
   "execution_count": 170,
   "metadata": {},
   "outputs": [
    {
     "data": {
      "text/plain": [
       "3.817299619021243"
      ]
     },
     "execution_count": 170,
     "metadata": {},
     "output_type": "execute_result"
    }
   ],
   "source": [
    "model = XGBRegressor(tree_method='gpu_hist', gpu_id=0)\n",
    "model.fit(x_train, y_train)\n",
    "y_pred = model.predict(x_val)\n",
    "mean_absolute_error(y_val, y_pred)"
   ]
  },
  {
   "cell_type": "code",
   "execution_count": 151,
   "metadata": {},
   "outputs": [],
   "source": [
    "def make_cluster(train, test):\n",
    "    from sklearn.cluster import KMeans\n",
    "    train_c = train[['start_latitude', 'start_longitude']]\n",
    "    test_c = test[['start_latitude', 'start_longitude']]\n",
    "    \n",
    "    k_mean = KMeans(n_clusters=4, init='k-means++')\n",
    "    train['cluster'] = k_mean.fit_predict(train_c)\n",
    "    test['cluster'] = k_mean.predict(test_c)\n",
    "    \n",
    "    return train, test    "
   ]
  },
  {
   "cell_type": "code",
   "execution_count": 177,
   "metadata": {},
   "outputs": [],
   "source": [
    "df = X.copy()"
   ]
  },
  {
   "cell_type": "code",
   "execution_count": 180,
   "metadata": {},
   "outputs": [
    {
     "data": {
      "text/plain": [
       "<AxesSubplot:xlabel='start_latitude', ylabel='start_longitude'>"
      ]
     },
     "execution_count": 180,
     "metadata": {},
     "output_type": "execute_result"
    },
    {
     "data": {
      "image/png": "[encoded data removed]",
      "text/plain": [
       "<Figure size 504x504 with 1 Axes>"
      ]
     },
     "metadata": {
      "needs_background": "light"
     },
     "output_type": "display_data"
    }
   ],
   "source": [
    "def make_scatter(df):\n",
    "    import matplotlib.pyplot as plt\n",
    "    fig, ax = plt.subplots(figsize=(7,7))\n",
    "\n",
    "    df_temp=df[df['cluster']==0]\n",
    "    df_temp.plot.scatter(x='start_latitude',y='start_longitude',ax=ax,color='RED')\n",
    "\n",
    "    df_temp=df[df['cluster']==1]\n",
    "    df_temp.plot.scatter(x='start_latitude',y='start_longitude',ax=ax,color='Orange')\n",
    "\n",
    "    df_temp=df[df['cluster']==2]\n",
    "    df_temp.plot.scatter(x='start_latitude',y='start_longitude',ax=ax,color='Green')\n",
    "\n",
    "    df_temp=df[df['cluster']==3]\n",
    "    df_temp.plot.scatter(x='start_latitude',y='start_longitude',ax=ax,color='Blue')"
   ]
  }
 ],
 "metadata": {
  "kernelspec": {
   "display_name": "Python 3.8.10 64-bit",
   "language": "python",
   "name": "python3"
  },
  "language_info": {
   "codemirror_mode": {
    "name": "ipython",
    "version": 3
   },
   "file_extension": ".py",
   "mimetype": "text/x-python",
   "name": "python",
   "nbconvert_exporter": "python",
   "pygments_lexer": "ipython3",
   "version": "3.8.10"
  },
  "orig_nbformat": 4,
  "vscode": {
   "interpreter": {
    "hash": "b081a66ee97bd2b6a16f43955f1d810b7ea816d6eaeb65e157ef9e038445f0c6"
   }
  }
 },
 "nbformat": 4,
 "nbformat_minor": 2
}
