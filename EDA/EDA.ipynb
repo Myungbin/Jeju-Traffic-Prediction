{
 "cells": [
  {
   "cell_type": "code",
   "execution_count": 2,
   "metadata": {},
   "outputs": [],
   "source": [
    "import pandas as pd\n",
    "import numpy as np\n",
    "from sklearn.preprocessing import LabelEncoder\n",
    "from xgboost import XGBRegressor\n",
    "import gc\n",
    "from sklearn.model_selection import train_test_split\n",
    "from sklearn.metrics import mean_absolute_error\n",
    "import matplotlib.pyplot as plt\n",
    "import seaborn as sns\n",
    "from collections import Counter\n",
    "import seaborn as sns\n",
    "plt.rc('font', family='Malgun Gothic') "
   ]
  },
  {
   "cell_type": "code",
   "execution_count": 2,
   "metadata": {},
   "outputs": [],
   "source": [
    " # 지수표현 없애기\n",
    "pd.options.display.float_format = '{:.5f}'.format\n",
    "# 원래대로\n",
    "# pd.reset_option('display.float_format')\n",
    "\n"
   ]
  },
  {
   "cell_type": "markdown",
   "metadata": {},
   "source": [
    "### data load\n"
   ]
  },
  {
   "cell_type": "code",
   "execution_count": 3,
   "metadata": {},
   "outputs": [],
   "source": [
    "train = pd.read_parquet('./train.parquet')\n",
    "test = pd.read_parquet('./test.parquet')"
   ]
  },
  {
   "cell_type": "code",
   "execution_count": 8,
   "metadata": {},
   "outputs": [],
   "source": [
    "def make_month(df):\n",
    "    dt = df['base_date'].astype('str')\n",
    "    month_data = pd.to_datetime(dt)\n",
    "    md = month_data.dt.month\n",
    "    return md\n",
    "\n",
    "train['month'] = make_month(train)\n",
    "test['month'] = make_month(test)"
   ]
  },
  {
   "cell_type": "markdown",
   "metadata": {},
   "source": [
    "### 기초 통계량"
   ]
  },
  {
   "cell_type": "code",
   "execution_count": 4,
   "metadata": {},
   "outputs": [
    {
     "data": {
      "text/html": [
       "<div>\n",
       "<style scoped>\n",
       "    .dataframe tbody tr th:only-of-type {\n",
       "        vertical-align: middle;\n",
       "    }\n",
       "\n",
       "    .dataframe tbody tr th {\n",
       "        vertical-align: top;\n",
       "    }\n",
       "\n",
       "    .dataframe thead th {\n",
       "        text-align: right;\n",
       "    }\n",
       "</style>\n",
       "<table border=\"1\" class=\"dataframe\">\n",
       "  <thead>\n",
       "    <tr style=\"text-align: right;\">\n",
       "      <th></th>\n",
       "      <th>base_date</th>\n",
       "      <th>base_hour</th>\n",
       "      <th>road_in_use</th>\n",
       "      <th>lane_count</th>\n",
       "      <th>road_rating</th>\n",
       "      <th>multi_linked</th>\n",
       "      <th>connect_code</th>\n",
       "      <th>maximum_speed_limit</th>\n",
       "      <th>vehicle_restricted</th>\n",
       "      <th>weight_restricted</th>\n",
       "      <th>height_restricted</th>\n",
       "      <th>road_type</th>\n",
       "      <th>start_latitude</th>\n",
       "      <th>start_longitude</th>\n",
       "      <th>end_latitude</th>\n",
       "      <th>end_longitude</th>\n",
       "      <th>target</th>\n",
       "    </tr>\n",
       "  </thead>\n",
       "  <tbody>\n",
       "    <tr>\n",
       "      <th>count</th>\n",
       "      <td>4701217.00000</td>\n",
       "      <td>4701217.00000</td>\n",
       "      <td>4701217.00000</td>\n",
       "      <td>4701217.00000</td>\n",
       "      <td>4701217.00000</td>\n",
       "      <td>4701217.00000</td>\n",
       "      <td>4701217.00000</td>\n",
       "      <td>4701217.00000</td>\n",
       "      <td>4701217.00000</td>\n",
       "      <td>4701217.00000</td>\n",
       "      <td>4701217.00000</td>\n",
       "      <td>4701217.00000</td>\n",
       "      <td>4701217.00000</td>\n",
       "      <td>4701217.00000</td>\n",
       "      <td>4701217.00000</td>\n",
       "      <td>4701217.00000</td>\n",
       "      <td>4701217.00000</td>\n",
       "    </tr>\n",
       "    <tr>\n",
       "      <th>mean</th>\n",
       "      <td>20216717.75500</td>\n",
       "      <td>11.92820</td>\n",
       "      <td>0.00140</td>\n",
       "      <td>1.83670</td>\n",
       "      <td>104.95850</td>\n",
       "      <td>0.00050</td>\n",
       "      <td>0.26600</td>\n",
       "      <td>61.25330</td>\n",
       "      <td>0.00000</td>\n",
       "      <td>5618.74240</td>\n",
       "      <td>0.00000</td>\n",
       "      <td>0.61520</td>\n",
       "      <td>33.38430</td>\n",
       "      <td>126.52170</td>\n",
       "      <td>33.38430</td>\n",
       "      <td>126.52170</td>\n",
       "      <td>42.78840</td>\n",
       "    </tr>\n",
       "    <tr>\n",
       "      <th>std</th>\n",
       "      <td>4555.70860</td>\n",
       "      <td>6.72210</td>\n",
       "      <td>0.03690</td>\n",
       "      <td>0.68780</td>\n",
       "      <td>1.84010</td>\n",
       "      <td>0.02180</td>\n",
       "      <td>5.22780</td>\n",
       "      <td>12.13350</td>\n",
       "      <td>0.00000</td>\n",
       "      <td>13953.43320</td>\n",
       "      <td>0.00000</td>\n",
       "      <td>1.21130</td>\n",
       "      <td>0.10120</td>\n",
       "      <td>0.15640</td>\n",
       "      <td>0.10120</td>\n",
       "      <td>0.15640</td>\n",
       "      <td>15.95440</td>\n",
       "    </tr>\n",
       "    <tr>\n",
       "      <th>min</th>\n",
       "      <td>20210901.00000</td>\n",
       "      <td>0.00000</td>\n",
       "      <td>0.00000</td>\n",
       "      <td>1.00000</td>\n",
       "      <td>103.00000</td>\n",
       "      <td>0.00000</td>\n",
       "      <td>0.00000</td>\n",
       "      <td>30.00000</td>\n",
       "      <td>0.00000</td>\n",
       "      <td>0.00000</td>\n",
       "      <td>0.00000</td>\n",
       "      <td>0.00000</td>\n",
       "      <td>33.24340</td>\n",
       "      <td>126.18260</td>\n",
       "      <td>33.24340</td>\n",
       "      <td>126.18260</td>\n",
       "      <td>1.00000</td>\n",
       "    </tr>\n",
       "    <tr>\n",
       "      <th>25%</th>\n",
       "      <td>20211104.00000</td>\n",
       "      <td>6.00000</td>\n",
       "      <td>0.00000</td>\n",
       "      <td>1.00000</td>\n",
       "      <td>103.00000</td>\n",
       "      <td>0.00000</td>\n",
       "      <td>0.00000</td>\n",
       "      <td>50.00000</td>\n",
       "      <td>0.00000</td>\n",
       "      <td>0.00000</td>\n",
       "      <td>0.00000</td>\n",
       "      <td>0.00000</td>\n",
       "      <td>33.26420</td>\n",
       "      <td>126.42320</td>\n",
       "      <td>33.26420</td>\n",
       "      <td>126.42320</td>\n",
       "      <td>30.00000</td>\n",
       "    </tr>\n",
       "    <tr>\n",
       "      <th>50%</th>\n",
       "      <td>20220128.00000</td>\n",
       "      <td>12.00000</td>\n",
       "      <td>0.00000</td>\n",
       "      <td>2.00000</td>\n",
       "      <td>106.00000</td>\n",
       "      <td>0.00000</td>\n",
       "      <td>0.00000</td>\n",
       "      <td>60.00000</td>\n",
       "      <td>0.00000</td>\n",
       "      <td>0.00000</td>\n",
       "      <td>0.00000</td>\n",
       "      <td>0.00000</td>\n",
       "      <td>33.41260</td>\n",
       "      <td>126.51120</td>\n",
       "      <td>33.41260</td>\n",
       "      <td>126.51120</td>\n",
       "      <td>43.00000</td>\n",
       "    </tr>\n",
       "    <tr>\n",
       "      <th>75%</th>\n",
       "      <td>20220503.00000</td>\n",
       "      <td>18.00000</td>\n",
       "      <td>0.00000</td>\n",
       "      <td>2.00000</td>\n",
       "      <td>107.00000</td>\n",
       "      <td>0.00000</td>\n",
       "      <td>0.00000</td>\n",
       "      <td>70.00000</td>\n",
       "      <td>0.00000</td>\n",
       "      <td>0.00000</td>\n",
       "      <td>0.00000</td>\n",
       "      <td>0.00000</td>\n",
       "      <td>33.47800</td>\n",
       "      <td>126.58400</td>\n",
       "      <td>33.47800</td>\n",
       "      <td>126.58400</td>\n",
       "      <td>54.00000</td>\n",
       "    </tr>\n",
       "    <tr>\n",
       "      <th>max</th>\n",
       "      <td>20220731.00000</td>\n",
       "      <td>23.00000</td>\n",
       "      <td>1.00000</td>\n",
       "      <td>3.00000</td>\n",
       "      <td>107.00000</td>\n",
       "      <td>1.00000</td>\n",
       "      <td>103.00000</td>\n",
       "      <td>80.00000</td>\n",
       "      <td>0.00000</td>\n",
       "      <td>50000.00000</td>\n",
       "      <td>0.00000</td>\n",
       "      <td>3.00000</td>\n",
       "      <td>33.55610</td>\n",
       "      <td>126.93090</td>\n",
       "      <td>33.55610</td>\n",
       "      <td>126.93090</td>\n",
       "      <td>113.00000</td>\n",
       "    </tr>\n",
       "  </tbody>\n",
       "</table>\n",
       "</div>"
      ],
      "text/plain": [
       "           base_date     base_hour   road_in_use    lane_count   road_rating  \\\n",
       "count  4701217.00000 4701217.00000 4701217.00000 4701217.00000 4701217.00000   \n",
       "mean  20216717.75500      11.92820       0.00140       1.83670     104.95850   \n",
       "std       4555.70860       6.72210       0.03690       0.68780       1.84010   \n",
       "min   20210901.00000       0.00000       0.00000       1.00000     103.00000   \n",
       "25%   20211104.00000       6.00000       0.00000       1.00000     103.00000   \n",
       "50%   20220128.00000      12.00000       0.00000       2.00000     106.00000   \n",
       "75%   20220503.00000      18.00000       0.00000       2.00000     107.00000   \n",
       "max   20220731.00000      23.00000       1.00000       3.00000     107.00000   \n",
       "\n",
       "       multi_linked  connect_code  maximum_speed_limit  vehicle_restricted  \\\n",
       "count 4701217.00000 4701217.00000        4701217.00000       4701217.00000   \n",
       "mean        0.00050       0.26600             61.25330             0.00000   \n",
       "std         0.02180       5.22780             12.13350             0.00000   \n",
       "min         0.00000       0.00000             30.00000             0.00000   \n",
       "25%         0.00000       0.00000             50.00000             0.00000   \n",
       "50%         0.00000       0.00000             60.00000             0.00000   \n",
       "75%         0.00000       0.00000             70.00000             0.00000   \n",
       "max         1.00000     103.00000             80.00000             0.00000   \n",
       "\n",
       "       weight_restricted  height_restricted     road_type  start_latitude  \\\n",
       "count      4701217.00000      4701217.00000 4701217.00000   4701217.00000   \n",
       "mean          5618.74240            0.00000       0.61520        33.38430   \n",
       "std          13953.43320            0.00000       1.21130         0.10120   \n",
       "min              0.00000            0.00000       0.00000        33.24340   \n",
       "25%              0.00000            0.00000       0.00000        33.26420   \n",
       "50%              0.00000            0.00000       0.00000        33.41260   \n",
       "75%              0.00000            0.00000       0.00000        33.47800   \n",
       "max          50000.00000            0.00000       3.00000        33.55610   \n",
       "\n",
       "       start_longitude  end_latitude  end_longitude        target  \n",
       "count    4701217.00000 4701217.00000  4701217.00000 4701217.00000  \n",
       "mean         126.52170      33.38430      126.52170      42.78840  \n",
       "std            0.15640       0.10120        0.15640      15.95440  \n",
       "min          126.18260      33.24340      126.18260       1.00000  \n",
       "25%          126.42320      33.26420      126.42320      30.00000  \n",
       "50%          126.51120      33.41260      126.51120      43.00000  \n",
       "75%          126.58400      33.47800      126.58400      54.00000  \n",
       "max          126.93090      33.55610      126.93090     113.00000  "
      ]
     },
     "execution_count": 4,
     "metadata": {},
     "output_type": "execute_result"
    }
   ],
   "source": [
    "round(train.describe(), 4)"
   ]
  },
  {
   "cell_type": "markdown",
   "metadata": {},
   "source": [
    "### 상관계수\n",
    "\n",
    "데이터간의 상관성이 없음(위, 경도제외)\n"
   ]
  },
  {
   "cell_type": "code",
   "execution_count": 7,
   "metadata": {},
   "outputs": [
    {
     "data": {
      "text/html": [
       "<div>\n",
       "<style scoped>\n",
       "    .dataframe tbody tr th:only-of-type {\n",
       "        vertical-align: middle;\n",
       "    }\n",
       "\n",
       "    .dataframe tbody tr th {\n",
       "        vertical-align: top;\n",
       "    }\n",
       "\n",
       "    .dataframe thead th {\n",
       "        text-align: right;\n",
       "    }\n",
       "</style>\n",
       "<table border=\"1\" class=\"dataframe\">\n",
       "  <thead>\n",
       "    <tr style=\"text-align: right;\">\n",
       "      <th></th>\n",
       "      <th>base_date</th>\n",
       "      <th>base_hour</th>\n",
       "      <th>road_in_use</th>\n",
       "      <th>lane_count</th>\n",
       "      <th>road_rating</th>\n",
       "      <th>multi_linked</th>\n",
       "      <th>connect_code</th>\n",
       "      <th>maximum_speed_limit</th>\n",
       "      <th>vehicle_restricted</th>\n",
       "      <th>weight_restricted</th>\n",
       "      <th>height_restricted</th>\n",
       "      <th>road_type</th>\n",
       "      <th>start_latitude</th>\n",
       "      <th>start_longitude</th>\n",
       "      <th>end_latitude</th>\n",
       "      <th>end_longitude</th>\n",
       "      <th>target</th>\n",
       "    </tr>\n",
       "  </thead>\n",
       "  <tbody>\n",
       "    <tr>\n",
       "      <th>base_date</th>\n",
       "      <td>1.00000</td>\n",
       "      <td>-0.00864</td>\n",
       "      <td>-0.00180</td>\n",
       "      <td>0.01146</td>\n",
       "      <td>0.01855</td>\n",
       "      <td>0.00083</td>\n",
       "      <td>-0.01063</td>\n",
       "      <td>-0.01871</td>\n",
       "      <td>NaN</td>\n",
       "      <td>-0.01103</td>\n",
       "      <td>NaN</td>\n",
       "      <td>-0.00460</td>\n",
       "      <td>-0.01682</td>\n",
       "      <td>-0.00495</td>\n",
       "      <td>-0.01679</td>\n",
       "      <td>-0.00497</td>\n",
       "      <td>-0.03400</td>\n",
       "    </tr>\n",
       "    <tr>\n",
       "      <th>base_hour</th>\n",
       "      <td>-0.00864</td>\n",
       "      <td>1.00000</td>\n",
       "      <td>-0.00119</td>\n",
       "      <td>-0.02919</td>\n",
       "      <td>0.03166</td>\n",
       "      <td>0.00571</td>\n",
       "      <td>-0.00265</td>\n",
       "      <td>-0.03676</td>\n",
       "      <td>NaN</td>\n",
       "      <td>-0.00323</td>\n",
       "      <td>NaN</td>\n",
       "      <td>-0.00788</td>\n",
       "      <td>-0.02160</td>\n",
       "      <td>-0.01148</td>\n",
       "      <td>-0.02160</td>\n",
       "      <td>-0.01149</td>\n",
       "      <td>-0.15941</td>\n",
       "    </tr>\n",
       "    <tr>\n",
       "      <th>road_in_use</th>\n",
       "      <td>-0.00180</td>\n",
       "      <td>-0.00119</td>\n",
       "      <td>1.00000</td>\n",
       "      <td>0.00877</td>\n",
       "      <td>-0.03340</td>\n",
       "      <td>-0.00081</td>\n",
       "      <td>-0.00188</td>\n",
       "      <td>-0.00382</td>\n",
       "      <td>NaN</td>\n",
       "      <td>-0.01487</td>\n",
       "      <td>NaN</td>\n",
       "      <td>-0.01876</td>\n",
       "      <td>-0.02783</td>\n",
       "      <td>0.01820</td>\n",
       "      <td>-0.02857</td>\n",
       "      <td>0.01827</td>\n",
       "      <td>0.02609</td>\n",
       "    </tr>\n",
       "    <tr>\n",
       "      <th>lane_count</th>\n",
       "      <td>0.01146</td>\n",
       "      <td>-0.02919</td>\n",
       "      <td>0.00877</td>\n",
       "      <td>1.00000</td>\n",
       "      <td>-0.09572</td>\n",
       "      <td>-0.02655</td>\n",
       "      <td>-0.02929</td>\n",
       "      <td>0.38400</td>\n",
       "      <td>NaN</td>\n",
       "      <td>-0.17722</td>\n",
       "      <td>NaN</td>\n",
       "      <td>-0.05071</td>\n",
       "      <td>0.18267</td>\n",
       "      <td>-0.09481</td>\n",
       "      <td>0.18233</td>\n",
       "      <td>-0.09473</td>\n",
       "      <td>-0.14426</td>\n",
       "    </tr>\n",
       "    <tr>\n",
       "      <th>road_rating</th>\n",
       "      <td>0.01855</td>\n",
       "      <td>0.03166</td>\n",
       "      <td>-0.03340</td>\n",
       "      <td>-0.09572</td>\n",
       "      <td>1.00000</td>\n",
       "      <td>0.02422</td>\n",
       "      <td>-0.05416</td>\n",
       "      <td>-0.32747</td>\n",
       "      <td>NaN</td>\n",
       "      <td>-0.11863</td>\n",
       "      <td>NaN</td>\n",
       "      <td>-0.12562</td>\n",
       "      <td>-0.20479</td>\n",
       "      <td>0.00740</td>\n",
       "      <td>-0.20484</td>\n",
       "      <td>0.00739</td>\n",
       "      <td>-0.26169</td>\n",
       "    </tr>\n",
       "    <tr>\n",
       "      <th>multi_linked</th>\n",
       "      <td>0.00083</td>\n",
       "      <td>0.00571</td>\n",
       "      <td>-0.00081</td>\n",
       "      <td>-0.02655</td>\n",
       "      <td>0.02422</td>\n",
       "      <td>1.00000</td>\n",
       "      <td>-0.00111</td>\n",
       "      <td>-0.02024</td>\n",
       "      <td>NaN</td>\n",
       "      <td>-0.00879</td>\n",
       "      <td>NaN</td>\n",
       "      <td>0.04298</td>\n",
       "      <td>-0.01491</td>\n",
       "      <td>0.02690</td>\n",
       "      <td>-0.01491</td>\n",
       "      <td>0.02690</td>\n",
       "      <td>-0.00841</td>\n",
       "    </tr>\n",
       "    <tr>\n",
       "      <th>connect_code</th>\n",
       "      <td>-0.01063</td>\n",
       "      <td>-0.00265</td>\n",
       "      <td>-0.00188</td>\n",
       "      <td>-0.02929</td>\n",
       "      <td>-0.05416</td>\n",
       "      <td>-0.00111</td>\n",
       "      <td>1.00000</td>\n",
       "      <td>-0.01519</td>\n",
       "      <td>NaN</td>\n",
       "      <td>-0.02049</td>\n",
       "      <td>NaN</td>\n",
       "      <td>-0.02585</td>\n",
       "      <td>0.03662</td>\n",
       "      <td>-0.04569</td>\n",
       "      <td>0.03716</td>\n",
       "      <td>-0.04485</td>\n",
       "      <td>0.04835</td>\n",
       "    </tr>\n",
       "    <tr>\n",
       "      <th>maximum_speed_limit</th>\n",
       "      <td>-0.01871</td>\n",
       "      <td>-0.03676</td>\n",
       "      <td>-0.00382</td>\n",
       "      <td>0.38400</td>\n",
       "      <td>-0.32747</td>\n",
       "      <td>-0.02024</td>\n",
       "      <td>-0.01519</td>\n",
       "      <td>1.00000</td>\n",
       "      <td>NaN</td>\n",
       "      <td>0.08508</td>\n",
       "      <td>NaN</td>\n",
       "      <td>0.05951</td>\n",
       "      <td>0.25315</td>\n",
       "      <td>-0.03302</td>\n",
       "      <td>0.25296</td>\n",
       "      <td>-0.03291</td>\n",
       "      <td>0.42572</td>\n",
       "    </tr>\n",
       "    <tr>\n",
       "      <th>vehicle_restricted</th>\n",
       "      <td>NaN</td>\n",
       "      <td>NaN</td>\n",
       "      <td>NaN</td>\n",
       "      <td>NaN</td>\n",
       "      <td>NaN</td>\n",
       "      <td>NaN</td>\n",
       "      <td>NaN</td>\n",
       "      <td>NaN</td>\n",
       "      <td>NaN</td>\n",
       "      <td>NaN</td>\n",
       "      <td>NaN</td>\n",
       "      <td>NaN</td>\n",
       "      <td>NaN</td>\n",
       "      <td>NaN</td>\n",
       "      <td>NaN</td>\n",
       "      <td>NaN</td>\n",
       "      <td>NaN</td>\n",
       "    </tr>\n",
       "    <tr>\n",
       "      <th>weight_restricted</th>\n",
       "      <td>-0.01103</td>\n",
       "      <td>-0.00323</td>\n",
       "      <td>-0.01487</td>\n",
       "      <td>-0.17722</td>\n",
       "      <td>-0.11863</td>\n",
       "      <td>-0.00879</td>\n",
       "      <td>-0.02049</td>\n",
       "      <td>0.08508</td>\n",
       "      <td>NaN</td>\n",
       "      <td>1.00000</td>\n",
       "      <td>NaN</td>\n",
       "      <td>0.79280</td>\n",
       "      <td>-0.12829</td>\n",
       "      <td>0.03493</td>\n",
       "      <td>-0.12831</td>\n",
       "      <td>0.03492</td>\n",
       "      <td>0.29409</td>\n",
       "    </tr>\n",
       "    <tr>\n",
       "      <th>height_restricted</th>\n",
       "      <td>NaN</td>\n",
       "      <td>NaN</td>\n",
       "      <td>NaN</td>\n",
       "      <td>NaN</td>\n",
       "      <td>NaN</td>\n",
       "      <td>NaN</td>\n",
       "      <td>NaN</td>\n",
       "      <td>NaN</td>\n",
       "      <td>NaN</td>\n",
       "      <td>NaN</td>\n",
       "      <td>NaN</td>\n",
       "      <td>NaN</td>\n",
       "      <td>NaN</td>\n",
       "      <td>NaN</td>\n",
       "      <td>NaN</td>\n",
       "      <td>NaN</td>\n",
       "      <td>NaN</td>\n",
       "    </tr>\n",
       "    <tr>\n",
       "      <th>road_type</th>\n",
       "      <td>-0.00460</td>\n",
       "      <td>-0.00788</td>\n",
       "      <td>-0.01876</td>\n",
       "      <td>-0.05071</td>\n",
       "      <td>-0.12562</td>\n",
       "      <td>0.04298</td>\n",
       "      <td>-0.02585</td>\n",
       "      <td>0.05951</td>\n",
       "      <td>NaN</td>\n",
       "      <td>0.79280</td>\n",
       "      <td>NaN</td>\n",
       "      <td>1.00000</td>\n",
       "      <td>-0.04342</td>\n",
       "      <td>0.03368</td>\n",
       "      <td>-0.04343</td>\n",
       "      <td>0.03366</td>\n",
       "      <td>0.20084</td>\n",
       "    </tr>\n",
       "    <tr>\n",
       "      <th>start_latitude</th>\n",
       "      <td>-0.01682</td>\n",
       "      <td>-0.02160</td>\n",
       "      <td>-0.02783</td>\n",
       "      <td>0.18267</td>\n",
       "      <td>-0.20479</td>\n",
       "      <td>-0.01491</td>\n",
       "      <td>0.03662</td>\n",
       "      <td>0.25315</td>\n",
       "      <td>NaN</td>\n",
       "      <td>-0.12829</td>\n",
       "      <td>NaN</td>\n",
       "      <td>-0.04342</td>\n",
       "      <td>1.00000</td>\n",
       "      <td>0.12704</td>\n",
       "      <td>0.99911</td>\n",
       "      <td>0.12701</td>\n",
       "      <td>0.03628</td>\n",
       "    </tr>\n",
       "    <tr>\n",
       "      <th>start_longitude</th>\n",
       "      <td>-0.00495</td>\n",
       "      <td>-0.01148</td>\n",
       "      <td>0.01820</td>\n",
       "      <td>-0.09481</td>\n",
       "      <td>0.00740</td>\n",
       "      <td>0.02690</td>\n",
       "      <td>-0.04569</td>\n",
       "      <td>-0.03302</td>\n",
       "      <td>NaN</td>\n",
       "      <td>0.03493</td>\n",
       "      <td>NaN</td>\n",
       "      <td>0.03368</td>\n",
       "      <td>0.12704</td>\n",
       "      <td>1.00000</td>\n",
       "      <td>0.12690</td>\n",
       "      <td>0.99922</td>\n",
       "      <td>-0.00117</td>\n",
       "    </tr>\n",
       "    <tr>\n",
       "      <th>end_latitude</th>\n",
       "      <td>-0.01679</td>\n",
       "      <td>-0.02160</td>\n",
       "      <td>-0.02857</td>\n",
       "      <td>0.18233</td>\n",
       "      <td>-0.20484</td>\n",
       "      <td>-0.01491</td>\n",
       "      <td>0.03716</td>\n",
       "      <td>0.25296</td>\n",
       "      <td>NaN</td>\n",
       "      <td>-0.12831</td>\n",
       "      <td>NaN</td>\n",
       "      <td>-0.04343</td>\n",
       "      <td>0.99911</td>\n",
       "      <td>0.12690</td>\n",
       "      <td>1.00000</td>\n",
       "      <td>0.12710</td>\n",
       "      <td>0.03614</td>\n",
       "    </tr>\n",
       "    <tr>\n",
       "      <th>end_longitude</th>\n",
       "      <td>-0.00497</td>\n",
       "      <td>-0.01149</td>\n",
       "      <td>0.01827</td>\n",
       "      <td>-0.09473</td>\n",
       "      <td>0.00739</td>\n",
       "      <td>0.02690</td>\n",
       "      <td>-0.04485</td>\n",
       "      <td>-0.03291</td>\n",
       "      <td>NaN</td>\n",
       "      <td>0.03492</td>\n",
       "      <td>NaN</td>\n",
       "      <td>0.03366</td>\n",
       "      <td>0.12701</td>\n",
       "      <td>0.99922</td>\n",
       "      <td>0.12710</td>\n",
       "      <td>1.00000</td>\n",
       "      <td>-0.00100</td>\n",
       "    </tr>\n",
       "    <tr>\n",
       "      <th>target</th>\n",
       "      <td>-0.03400</td>\n",
       "      <td>-0.15941</td>\n",
       "      <td>0.02609</td>\n",
       "      <td>-0.14426</td>\n",
       "      <td>-0.26169</td>\n",
       "      <td>-0.00841</td>\n",
       "      <td>0.04835</td>\n",
       "      <td>0.42572</td>\n",
       "      <td>NaN</td>\n",
       "      <td>0.29409</td>\n",
       "      <td>NaN</td>\n",
       "      <td>0.20084</td>\n",
       "      <td>0.03628</td>\n",
       "      <td>-0.00117</td>\n",
       "      <td>0.03614</td>\n",
       "      <td>-0.00100</td>\n",
       "      <td>1.00000</td>\n",
       "    </tr>\n",
       "  </tbody>\n",
       "</table>\n",
       "</div>"
      ],
      "text/plain": [
       "                     base_date  base_hour  road_in_use  lane_count  \\\n",
       "base_date              1.00000   -0.00864     -0.00180     0.01146   \n",
       "base_hour             -0.00864    1.00000     -0.00119    -0.02919   \n",
       "road_in_use           -0.00180   -0.00119      1.00000     0.00877   \n",
       "lane_count             0.01146   -0.02919      0.00877     1.00000   \n",
       "road_rating            0.01855    0.03166     -0.03340    -0.09572   \n",
       "multi_linked           0.00083    0.00571     -0.00081    -0.02655   \n",
       "connect_code          -0.01063   -0.00265     -0.00188    -0.02929   \n",
       "maximum_speed_limit   -0.01871   -0.03676     -0.00382     0.38400   \n",
       "vehicle_restricted         NaN        NaN          NaN         NaN   \n",
       "weight_restricted     -0.01103   -0.00323     -0.01487    -0.17722   \n",
       "height_restricted          NaN        NaN          NaN         NaN   \n",
       "road_type             -0.00460   -0.00788     -0.01876    -0.05071   \n",
       "start_latitude        -0.01682   -0.02160     -0.02783     0.18267   \n",
       "start_longitude       -0.00495   -0.01148      0.01820    -0.09481   \n",
       "end_latitude          -0.01679   -0.02160     -0.02857     0.18233   \n",
       "end_longitude         -0.00497   -0.01149      0.01827    -0.09473   \n",
       "target                -0.03400   -0.15941      0.02609    -0.14426   \n",
       "\n",
       "                     road_rating  multi_linked  connect_code  \\\n",
       "base_date                0.01855       0.00083      -0.01063   \n",
       "base_hour                0.03166       0.00571      -0.00265   \n",
       "road_in_use             -0.03340      -0.00081      -0.00188   \n",
       "lane_count              -0.09572      -0.02655      -0.02929   \n",
       "road_rating              1.00000       0.02422      -0.05416   \n",
       "multi_linked             0.02422       1.00000      -0.00111   \n",
       "connect_code            -0.05416      -0.00111       1.00000   \n",
       "maximum_speed_limit     -0.32747      -0.02024      -0.01519   \n",
       "vehicle_restricted           NaN           NaN           NaN   \n",
       "weight_restricted       -0.11863      -0.00879      -0.02049   \n",
       "height_restricted            NaN           NaN           NaN   \n",
       "road_type               -0.12562       0.04298      -0.02585   \n",
       "start_latitude          -0.20479      -0.01491       0.03662   \n",
       "start_longitude          0.00740       0.02690      -0.04569   \n",
       "end_latitude            -0.20484      -0.01491       0.03716   \n",
       "end_longitude            0.00739       0.02690      -0.04485   \n",
       "target                  -0.26169      -0.00841       0.04835   \n",
       "\n",
       "                     maximum_speed_limit  vehicle_restricted  \\\n",
       "base_date                       -0.01871                 NaN   \n",
       "base_hour                       -0.03676                 NaN   \n",
       "road_in_use                     -0.00382                 NaN   \n",
       "lane_count                       0.38400                 NaN   \n",
       "road_rating                     -0.32747                 NaN   \n",
       "multi_linked                    -0.02024                 NaN   \n",
       "connect_code                    -0.01519                 NaN   \n",
       "maximum_speed_limit              1.00000                 NaN   \n",
       "vehicle_restricted                   NaN                 NaN   \n",
       "weight_restricted                0.08508                 NaN   \n",
       "height_restricted                    NaN                 NaN   \n",
       "road_type                        0.05951                 NaN   \n",
       "start_latitude                   0.25315                 NaN   \n",
       "start_longitude                 -0.03302                 NaN   \n",
       "end_latitude                     0.25296                 NaN   \n",
       "end_longitude                   -0.03291                 NaN   \n",
       "target                           0.42572                 NaN   \n",
       "\n",
       "                     weight_restricted  height_restricted  road_type  \\\n",
       "base_date                     -0.01103                NaN   -0.00460   \n",
       "base_hour                     -0.00323                NaN   -0.00788   \n",
       "road_in_use                   -0.01487                NaN   -0.01876   \n",
       "lane_count                    -0.17722                NaN   -0.05071   \n",
       "road_rating                   -0.11863                NaN   -0.12562   \n",
       "multi_linked                  -0.00879                NaN    0.04298   \n",
       "connect_code                  -0.02049                NaN   -0.02585   \n",
       "maximum_speed_limit            0.08508                NaN    0.05951   \n",
       "vehicle_restricted                 NaN                NaN        NaN   \n",
       "weight_restricted              1.00000                NaN    0.79280   \n",
       "height_restricted                  NaN                NaN        NaN   \n",
       "road_type                      0.79280                NaN    1.00000   \n",
       "start_latitude                -0.12829                NaN   -0.04342   \n",
       "start_longitude                0.03493                NaN    0.03368   \n",
       "end_latitude                  -0.12831                NaN   -0.04343   \n",
       "end_longitude                  0.03492                NaN    0.03366   \n",
       "target                         0.29409                NaN    0.20084   \n",
       "\n",
       "                     start_latitude  start_longitude  end_latitude  \\\n",
       "base_date                  -0.01682         -0.00495      -0.01679   \n",
       "base_hour                  -0.02160         -0.01148      -0.02160   \n",
       "road_in_use                -0.02783          0.01820      -0.02857   \n",
       "lane_count                  0.18267         -0.09481       0.18233   \n",
       "road_rating                -0.20479          0.00740      -0.20484   \n",
       "multi_linked               -0.01491          0.02690      -0.01491   \n",
       "connect_code                0.03662         -0.04569       0.03716   \n",
       "maximum_speed_limit         0.25315         -0.03302       0.25296   \n",
       "vehicle_restricted              NaN              NaN           NaN   \n",
       "weight_restricted          -0.12829          0.03493      -0.12831   \n",
       "height_restricted               NaN              NaN           NaN   \n",
       "road_type                  -0.04342          0.03368      -0.04343   \n",
       "start_latitude              1.00000          0.12704       0.99911   \n",
       "start_longitude             0.12704          1.00000       0.12690   \n",
       "end_latitude                0.99911          0.12690       1.00000   \n",
       "end_longitude               0.12701          0.99922       0.12710   \n",
       "target                      0.03628         -0.00117       0.03614   \n",
       "\n",
       "                     end_longitude   target  \n",
       "base_date                 -0.00497 -0.03400  \n",
       "base_hour                 -0.01149 -0.15941  \n",
       "road_in_use                0.01827  0.02609  \n",
       "lane_count                -0.09473 -0.14426  \n",
       "road_rating                0.00739 -0.26169  \n",
       "multi_linked               0.02690 -0.00841  \n",
       "connect_code              -0.04485  0.04835  \n",
       "maximum_speed_limit       -0.03291  0.42572  \n",
       "vehicle_restricted             NaN      NaN  \n",
       "weight_restricted          0.03492  0.29409  \n",
       "height_restricted              NaN      NaN  \n",
       "road_type                  0.03366  0.20084  \n",
       "start_latitude             0.12701  0.03628  \n",
       "start_longitude            0.99922 -0.00117  \n",
       "end_latitude               0.12710  0.03614  \n",
       "end_longitude              1.00000 -0.00100  \n",
       "target                    -0.00100  1.00000  "
      ]
     },
     "execution_count": 7,
     "metadata": {},
     "output_type": "execute_result"
    }
   ],
   "source": [
    "train.corr()"
   ]
  },
  {
   "cell_type": "markdown",
   "metadata": {},
   "source": [
    "### Label encoding"
   ]
  },
  {
   "cell_type": "code",
   "execution_count": 8,
   "metadata": {},
   "outputs": [],
   "source": [
    "str_col = ['day_of_week', 'start_turn_restricted', 'end_turn_restricted']\n",
    "for i in str_col:\n",
    "    le = LabelEncoder()\n",
    "    le = le.fit(train[i])\n",
    "    train[i] = le.transform(train[i])\n",
    "\n",
    "    for label in np.unique(test[i]):\n",
    "        if label not in le.classes_:\n",
    "            le.classes_ = np.append(le.classes_, label)\n",
    "    test[i] = le.transform(test[i])"
   ]
  },
  {
   "cell_type": "markdown",
   "metadata": {},
   "source": [
    "### EDA"
   ]
  },
  {
   "cell_type": "code",
   "execution_count": 16,
   "metadata": {},
   "outputs": [],
   "source": [
    "def print_mode(df, col):    \n",
    "    cnt = Counter(df[col])\n",
    "    list_cnt = cnt.most_common(3)\n",
    "\n",
    "    for idx, value in enumerate(list_cnt):\n",
    "        print(f'{col}의 최빈값 {idx+1}순위 : {value[0]} & {value[-1]}개')\n",
    "    \n",
    "    \n",
    "def print_statistics(df, col):    \n",
    "    max = df['target'].max()\n",
    "    min = df['target'].min()\n",
    "    mean = df['target'].mean()\n",
    "    median = df['target'].median()\n",
    "\n",
    "    print(f'{col}의 최대값 : {max}')\n",
    "    print(f'{col}의 최소값 : {min}')\n",
    "    print(f'{col}의 평균값 : {mean}')\n",
    "    print(f'{col}의 중앙값 : {median}')\n",
    "    print_mode(df, col)\n",
    "  \n",
    "  \n",
    "def histogram_plt(df, col):    \n",
    "    sns.histplot(data=df[col], kde=True)\n",
    "    print_statistics(df, col)\n",
    "  \n",
    "\n",
    "def count_plt(df, col, target='target'):    \n",
    "    print(df[col].value_counts())\n",
    "\n",
    "    sns.countplot(data=df, x=col)\n",
    "    plt.show()\n",
    "    \n",
    "def value_hist(df, col, target='target'):\n",
    "    for value in df[col].unique():\n",
    "        cond = (df[col]==value)\n",
    "        cond_df = df.loc[cond]\n",
    "\n",
    "        print(f'{value} 데이터 갯수 : {cond_df.shape[0]}')\n",
    "\n",
    "        print_statistics(cond_df, target)\n",
    "\n",
    "        fig, ax = plt.subplots(ncols=2, figsize=(13, 6))\n",
    "\n",
    "        sns.boxplot(data=cond_df, x='target', ax=ax[1])\n",
    "        ax[1].set_title(f'{col}의 {value} Box Plot')\n",
    "\n",
    "        sns.histplot(data=cond_df, x='target', ax=ax[0])\n",
    "        ax[0].set_title(f'{col}의 {value} 히스토그램')\n",
    "        ax[0].set_xticks(range(0,int(df[target].max()+1)), 20)\n",
    "\n",
    "        plt.show()"
   ]
  },
  {
   "cell_type": "markdown",
   "metadata": {},
   "source": [
    "### 평균속도(km) = target\n",
    "30~60까지 분포가 많고, 60이상으로는 쭉 떨어지는 양상을 보임"
   ]
  },
  {
   "cell_type": "code",
   "execution_count": 6,
   "metadata": {},
   "outputs": [
    {
     "name": "stdout",
     "output_type": "stream",
     "text": [
      "target의 최대값 : 113.0\n",
      "target의 최소값 : 1.0\n",
      "target의 평균값 : 42.78844180134633\n",
      "target의 중앙값 : 43.0\n",
      "target의 최빈값 1순위 : 48.0 & 112044개\n",
      "target의 최빈값 2순위 : 49.0 & 110244개\n",
      "target의 최빈값 3순위 : 50.0 & 108822개\n"
     ]
    },
    {
     "data": {
      "image/png": "[encoded data removed]",
      "text/plain": [
       "<Figure size 432x288 with 1 Axes>"
      ]
     },
     "metadata": {
      "needs_background": "light"
     },
     "output_type": "display_data"
    }
   ],
   "source": [
    "# target의 분포\n",
    "histogram_plt(train, 'target')"
   ]
  },
  {
   "cell_type": "markdown",
   "metadata": {},
   "source": [
    "### 시간대(base_hour)\n",
    "\n",
    "오후시간(13~ )에 통행량이 가장 많고 새벽에는 통행량 감소\n",
    "\n",
    "저녁시간의 통량량이 생각보다 적음\n",
    "\n",
    "오후 > 출근시간 > 저녁 > 밤 > 새벽"
   ]
  },
  {
   "cell_type": "code",
   "execution_count": 8,
   "metadata": {},
   "outputs": [
    {
     "name": "stdout",
     "output_type": "stream",
     "text": [
      "15    214541\n",
      "13    214297\n",
      "14    214182\n",
      "12    211833\n",
      "19    209870\n",
      "11    208515\n",
      "16    208420\n",
      "17    208377\n",
      "18    207500\n",
      "10    206316\n",
      "9     205327\n",
      "20    205059\n",
      "21    203585\n",
      "8     201875\n",
      "22    200629\n",
      "7     199061\n",
      "6     189418\n",
      "23    184229\n",
      "1     182353\n",
      "5     181128\n",
      "2     169322\n",
      "4     165284\n",
      "3     155938\n",
      "0     154158\n",
      "Name: base_hour, dtype: int64\n"
     ]
    },
    {
     "data": {
      "image/png": "[encoded data removed]",
      "text/plain": [
       "<Figure size 432x288 with 1 Axes>"
      ]
     },
     "metadata": {
      "needs_background": "light"
     },
     "output_type": "display_data"
    }
   ],
   "source": [
    "count_plt(train, 'base_hour')"
   ]
  },
  {
   "cell_type": "code",
   "execution_count": 24,
   "metadata": {},
   "outputs": [
    {
     "data": {
      "text/plain": [
       "base_hour\n",
       "0     48.742200\n",
       "1     49.763300\n",
       "2     50.278658\n",
       "3     50.543254\n",
       "4     49.747525\n",
       "5     47.201140\n",
       "6     45.549029\n",
       "7     43.682268\n",
       "8     41.656292\n",
       "9     40.875939\n",
       "10    40.222232\n",
       "11    39.824593\n",
       "12    39.838538\n",
       "13    39.731471\n",
       "14    39.561121\n",
       "15    39.351700\n",
       "16    39.127929\n",
       "17    38.473363\n",
       "18    38.241258\n",
       "19    40.104112\n",
       "20    41.113806\n",
       "21    42.173431\n",
       "22    43.989862\n",
       "23    45.807739\n",
       "Name: target, dtype: float64"
      ]
     },
     "execution_count": 24,
     "metadata": {},
     "output_type": "execute_result"
    }
   ],
   "source": [
    "train.groupby(['base_hour'])['target'].mean()"
   ]
  },
  {
   "cell_type": "markdown",
   "metadata": {},
   "source": [
    "### 요일(day_of_week)"
   ]
  },
  {
   "cell_type": "code",
   "execution_count": 42,
   "metadata": {},
   "outputs": [
    {
     "name": "stdout",
     "output_type": "stream",
     "text": [
      "금    684024\n",
      "수    675583\n",
      "목    674070\n",
      "일    673632\n",
      "토    669767\n",
      "화    662498\n",
      "월    661643\n",
      "Name: day_of_week, dtype: int64\n"
     ]
    },
    {
     "data": {
      "image/png": "[encoded data removed]",
      "text/plain": [
       "<Figure size 640x480 with 1 Axes>"
      ]
     },
     "metadata": {},
     "output_type": "display_data"
    }
   ],
   "source": [
    "count_plt(train, 'day_of_week')"
   ]
  },
  {
   "cell_type": "code",
   "execution_count": 43,
   "metadata": {},
   "outputs": [],
   "source": [
    "train.groupby(['day_of_week', 'month'])['target'].mean().to_csv('a.csv')"
   ]
  },
  {
   "cell_type": "markdown",
   "metadata": {},
   "source": [
    "### 월 데이터(month)\n",
    "데이터를 살펴보니 7월의 평균속도가 유난히 낮음 => 여름휴가때문이라고 추정"
   ]
  },
  {
   "cell_type": "code",
   "execution_count": 92,
   "metadata": {},
   "outputs": [
    {
     "name": "stdout",
     "output_type": "stream",
     "text": [
      "12    616511\n",
      "9     570909\n",
      "1     569884\n",
      "2     550807\n",
      "10    537916\n",
      "3     505671\n",
      "6     490137\n",
      "5     463709\n",
      "7     274695\n",
      "11    120978\n",
      "Name: month, dtype: int64\n"
     ]
    },
    {
     "data": {
      "image/png": "[encoded data removed]",
      "text/plain": [
       "<Figure size 432x288 with 1 Axes>"
      ]
     },
     "metadata": {
      "needs_background": "light"
     },
     "output_type": "display_data"
    }
   ],
   "source": [
    "count_plt(train, 'month')"
   ]
  },
  {
   "cell_type": "code",
   "execution_count": 25,
   "metadata": {},
   "outputs": [
    {
     "data": {
      "text/plain": [
       "month\n",
       "1     43.033130\n",
       "2     43.256182\n",
       "3     43.548673\n",
       "5     42.639328\n",
       "6     42.614157\n",
       "7     36.282302\n",
       "9     43.694340\n",
       "10    43.495717\n",
       "11    43.728215\n",
       "12    43.030021\n",
       "Name: target, dtype: float64"
      ]
     },
     "execution_count": 25,
     "metadata": {},
     "output_type": "execute_result"
    }
   ],
   "source": [
    "train.groupby(['month'])['target'].mean()\n",
    "# 7월의 속도의 평균이 낮음"
   ]
  },
  {
   "cell_type": "code",
   "execution_count": 35,
   "metadata": {},
   "outputs": [
    {
     "data": {
      "text/plain": [
       "<seaborn.axisgrid.FacetGrid at 0x175dc817430>"
      ]
     },
     "execution_count": 35,
     "metadata": {},
     "output_type": "execute_result"
    },
    {
     "data": {
      "image/png": "[encoded data removed]",
      "text/plain": [
       "<Figure size 500x500 with 1 Axes>"
      ]
     },
     "metadata": {},
     "output_type": "display_data"
    },
    {
     "data": {
      "image/png": "[encoded data removed]",
      "text/plain": [
       "<Figure size 500x500 with 1 Axes>"
      ]
     },
     "metadata": {},
     "output_type": "display_data"
    }
   ],
   "source": [
    "sns.displot(train[train['month']==7]['target'], color=\"blue\", label='target')\n",
    "sns.displot(train[train['month']==1]['target'], color=\"red\", label='target')"
   ]
  },
  {
   "cell_type": "markdown",
   "metadata": {},
   "source": [
    "### 요일(day_of_week)\n",
    "요일에 따른 데이터의 특성을 파악해보기"
   ]
  },
  {
   "cell_type": "code",
   "execution_count": 7,
   "metadata": {},
   "outputs": [
    {
     "name": "stdout",
     "output_type": "stream",
     "text": [
      "금    684024\n",
      "수    675583\n",
      "목    674070\n",
      "일    673632\n",
      "토    669767\n",
      "화    662498\n",
      "월    661643\n",
      "Name: day_of_week, dtype: int64\n"
     ]
    },
    {
     "data": {
      "image/png": "[encoded data removed]",
      "text/plain": [
       "<Figure size 432x288 with 1 Axes>"
      ]
     },
     "metadata": {
      "needs_background": "light"
     },
     "output_type": "display_data"
    }
   ],
   "source": [
    "count_plt(train, 'day_of_week')"
   ]
  },
  {
   "cell_type": "markdown",
   "metadata": {},
   "source": [
    "요일에 따른 도로 사용여부의 차이"
   ]
  },
  {
   "cell_type": "code",
   "execution_count": 24,
   "metadata": {},
   "outputs": [
    {
     "data": {
      "text/plain": [
       "day_of_week\n",
       "금    939\n",
       "목    918\n",
       "수    903\n",
       "월    895\n",
       "일    939\n",
       "토    933\n",
       "화    878\n",
       "Name: road_in_use, dtype: int64"
      ]
     },
     "execution_count": 24,
     "metadata": {},
     "output_type": "execute_result"
    }
   ],
   "source": [
    "train.groupby('day_of_week')['road_in_use'].sum()"
   ]
  },
  {
   "cell_type": "code",
   "execution_count": 95,
   "metadata": {},
   "outputs": [
    {
     "data": {
      "text/plain": [
       "day_of_week\n",
       "금   42.45033\n",
       "목   42.76834\n",
       "수   42.77037\n",
       "월   42.76137\n",
       "일   43.17930\n",
       "토   42.89412\n",
       "화   42.69920\n",
       "Name: target, dtype: float64"
      ]
     },
     "execution_count": 95,
     "metadata": {},
     "output_type": "execute_result"
    }
   ],
   "source": [
    "train.groupby('day_of_week')['target'].mean()"
   ]
  },
  {
   "cell_type": "markdown",
   "metadata": {},
   "source": [
    "### 도로 사용 여부(road_in_use)\n",
    "data imbalence로 1인 데이터의 특징과 비교를 한번 해볼 예정"
   ]
  },
  {
   "cell_type": "code",
   "execution_count": 15,
   "metadata": {},
   "outputs": [
    {
     "name": "stdout",
     "output_type": "stream",
     "text": [
      "0    4694812\n",
      "1       6405\n",
      "Name: road_in_use, dtype: int64\n"
     ]
    },
    {
     "data": {
      "image/png": "[encoded data removed]",
      "text/plain": [
       "<Figure size 432x288 with 1 Axes>"
      ]
     },
     "metadata": {
      "needs_background": "light"
     },
     "output_type": "display_data"
    }
   ],
   "source": [
    "count_plt(train, 'road_in_use')"
   ]
  },
  {
   "cell_type": "markdown",
   "metadata": {},
   "source": [
    "### 차로수(lane_count)"
   ]
  },
  {
   "cell_type": "code",
   "execution_count": 16,
   "metadata": {},
   "outputs": [
    {
     "name": "stdout",
     "output_type": "stream",
     "text": [
      "2    2352092\n",
      "1    1558531\n",
      "3     790594\n",
      "Name: lane_count, dtype: int64\n"
     ]
    },
    {
     "data": {
      "image/png": "[encoded data removed]",
      "text/plain": [
       "<Figure size 432x288 with 1 Axes>"
      ]
     },
     "metadata": {
      "needs_background": "light"
     },
     "output_type": "display_data"
    }
   ],
   "source": [
    "count_plt(train, 'lane_count')"
   ]
  },
  {
   "cell_type": "code",
   "execution_count": 13,
   "metadata": {},
   "outputs": [
    {
     "data": {
      "text/plain": [
       "<seaborn.axisgrid.FacetGrid at 0x17589dd7f10>"
      ]
     },
     "execution_count": 13,
     "metadata": {},
     "output_type": "execute_result"
    },
    {
     "data": {
      "image/png": "[encoded data removed]",
      "text/plain": [
       "<Figure size 500x500 with 1 Axes>"
      ]
     },
     "metadata": {},
     "output_type": "display_data"
    },
    {
     "data": {
      "image/png": "[encoded data removed]",
      "text/plain": [
       "<Figure size 500x500 with 1 Axes>"
      ]
     },
     "metadata": {},
     "output_type": "display_data"
    },
    {
     "data": {
      "image/png": "[encoded data removed]",
      "text/plain": [
       "<Figure size 500x500 with 1 Axes>"
      ]
     },
     "metadata": {},
     "output_type": "display_data"
    }
   ],
   "source": [
    "sns.displot(train[train['lane_count']==1]['target'], color=\"blue\", label='target')\n",
    "sns.displot(train[train['lane_count']==2]['target'], color=\"red\", label='target')\n",
    "sns.displot(train[train['lane_count']==3]['target'], color=\"green\", label='target')"
   ]
  },
  {
   "cell_type": "markdown",
   "metadata": {},
   "source": [
    "### 도로 등급(road_rating)"
   ]
  },
  {
   "cell_type": "code",
   "execution_count": 18,
   "metadata": {},
   "outputs": [
    {
     "name": "stdout",
     "output_type": "stream",
     "text": [
      "103    2159511\n",
      "107    1582214\n",
      "106     959492\n",
      "Name: road_rating, dtype: int64\n"
     ]
    },
    {
     "data": {
      "image/png": "[encoded data removed]",
      "text/plain": [
       "<Figure size 432x288 with 1 Axes>"
      ]
     },
     "metadata": {
      "needs_background": "light"
     },
     "output_type": "display_data"
    }
   ],
   "source": [
    "count_plt(train, 'road_rating')"
   ]
  },
  {
   "cell_type": "code",
   "execution_count": 5,
   "metadata": {},
   "outputs": [
    {
     "data": {
      "text/plain": [
       "<seaborn.axisgrid.FacetGrid at 0x175874a77f0>"
      ]
     },
     "execution_count": 5,
     "metadata": {},
     "output_type": "execute_result"
    },
    {
     "data": {
      "image/png": "[encoded data removed]",
      "text/plain": [
       "<Figure size 360x360 with 1 Axes>"
      ]
     },
     "metadata": {
      "needs_background": "light"
     },
     "output_type": "display_data"
    },
    {
     "data": {
      "image/png": "[encoded data removed]",
      "text/plain": [
       "<Figure size 500x500 with 1 Axes>"
      ]
     },
     "metadata": {},
     "output_type": "display_data"
    },
    {
     "data": {
      "image/png": "[encoded data removed]",
      "text/plain": [
       "<Figure size 500x500 with 1 Axes>"
      ]
     },
     "metadata": {},
     "output_type": "display_data"
    }
   ],
   "source": [
    "sns.displot(train[train['road_rating']==103]['target'], color=\"blue\", label='target')\n",
    "sns.displot(train[train['road_rating']==106]['target'], color=\"red\", label='target')\n",
    "sns.displot(train[train['road_rating']==107]['target'], color=\"green\", label='target')"
   ]
  },
  {
   "cell_type": "markdown",
   "metadata": {},
   "source": [
    "### 중용구간 여부(multi_linked)"
   ]
  },
  {
   "cell_type": "code",
   "execution_count": 25,
   "metadata": {},
   "outputs": [
    {
     "name": "stdout",
     "output_type": "stream",
     "text": [
      "0    4698978\n",
      "1       2239\n",
      "Name: multi_linked, dtype: int64\n"
     ]
    },
    {
     "data": {
      "image/png": "[encoded data removed]",
      "text/plain": [
       "<Figure size 432x288 with 1 Axes>"
      ]
     },
     "metadata": {
      "needs_background": "light"
     },
     "output_type": "display_data"
    }
   ],
   "source": [
    "count_plt(train, 'multi_linked')"
   ]
  },
  {
   "cell_type": "code",
   "execution_count": 44,
   "metadata": {},
   "outputs": [
    {
     "data": {
      "text/plain": [
       "multi_linked\n",
       "0    42.791370\n",
       "1    36.642698\n",
       "Name: target, dtype: float64"
      ]
     },
     "execution_count": 44,
     "metadata": {},
     "output_type": "execute_result"
    }
   ],
   "source": [
    "train.groupby(['multi_linked'])['target'].mean()"
   ]
  },
  {
   "cell_type": "markdown",
   "metadata": {},
   "source": [
    "### 최고속도 제한(maximum_speed_limit)"
   ]
  },
  {
   "cell_type": "code",
   "execution_count": 28,
   "metadata": {},
   "outputs": [
    {
     "name": "stdout",
     "output_type": "stream",
     "text": [
      "60.00000    1665573\n",
      "50.00000    1103682\n",
      "70.00000     995077\n",
      "80.00000     700334\n",
      "30.00000     229761\n",
      "40.00000       6790\n",
      "Name: maximum_speed_limit, dtype: int64\n"
     ]
    },
    {
     "data": {
      "image/png": "[encoded data removed]",
      "text/plain": [
       "<Figure size 432x288 with 1 Axes>"
      ]
     },
     "metadata": {
      "needs_background": "light"
     },
     "output_type": "display_data"
    }
   ],
   "source": [
    "count_plt(train, 'maximum_speed_limit')"
   ]
  },
  {
   "cell_type": "code",
   "execution_count": 45,
   "metadata": {},
   "outputs": [
    {
     "data": {
      "text/plain": [
       "maximum_speed_limit\n",
       "30.0    32.220825\n",
       "40.0    62.774080\n",
       "50.0    35.492231\n",
       "60.0    42.316287\n",
       "70.0    41.366208\n",
       "80.0    60.703696\n",
       "Name: target, dtype: float64"
      ]
     },
     "execution_count": 45,
     "metadata": {},
     "output_type": "execute_result"
    }
   ],
   "source": [
    "train.groupby(['maximum_speed_limit'])['target'].mean()"
   ]
  },
  {
   "cell_type": "markdown",
   "metadata": {},
   "source": [
    "### 통과제한 하중(weight_restricted)"
   ]
  },
  {
   "cell_type": "code",
   "execution_count": 32,
   "metadata": {},
   "outputs": [
    {
     "name": "stdout",
     "output_type": "stream",
     "text": [
      "0.00000        4032874\n",
      "43200.00000     410361\n",
      "32400.00000     239305\n",
      "50000.00000      18677\n",
      "Name: weight_restricted, dtype: int64\n"
     ]
    },
    {
     "data": {
      "image/png": "[encoded data removed]",
      "text/plain": [
       "<Figure size 432x288 with 1 Axes>"
      ]
     },
     "metadata": {
      "needs_background": "light"
     },
     "output_type": "display_data"
    }
   ],
   "source": [
    "count_plt(train, 'weight_restricted')"
   ]
  },
  {
   "cell_type": "code",
   "execution_count": 23,
   "metadata": {},
   "outputs": [
    {
     "data": {
      "text/plain": [
       "weight_restricted\n",
       "0.0        40.955696\n",
       "32400.0    47.453350\n",
       "43200.0    57.883888\n",
       "50000.0    47.088665\n",
       "Name: target, dtype: float64"
      ]
     },
     "execution_count": 23,
     "metadata": {},
     "output_type": "execute_result"
    }
   ],
   "source": [
    "train.groupby('weight_restricted')['target'].mean()"
   ]
  },
  {
   "cell_type": "markdown",
   "metadata": {},
   "source": [
    "### 통과제한 높이(hight_restricted)\n",
    "다 0"
   ]
  },
  {
   "cell_type": "code",
   "execution_count": 64,
   "metadata": {},
   "outputs": [
    {
     "name": "stdout",
     "output_type": "stream",
     "text": [
      "0.00000    4701217\n",
      "Name: height_restricted, dtype: int64\n"
     ]
    },
    {
     "data": {
      "image/png": "[encoded data removed]",
      "text/plain": [
       "<Figure size 432x288 with 1 Axes>"
      ]
     },
     "metadata": {
      "needs_background": "light"
     },
     "output_type": "display_data"
    }
   ],
   "source": [
    "count_plt(train, 'height_restricted')"
   ]
  },
  {
   "cell_type": "markdown",
   "metadata": {},
   "source": [
    "### 도로유형(road_type)\n",
    "\n",
    "도로유형에 따른 속도차이가 있음"
   ]
  },
  {
   "cell_type": "code",
   "execution_count": 66,
   "metadata": {},
   "outputs": [
    {
     "name": "stdout",
     "output_type": "stream",
     "text": [
      "0    3737117\n",
      "3     964100\n",
      "Name: road_type, dtype: int64\n"
     ]
    },
    {
     "data": {
      "image/png": "[encoded data removed]",
      "text/plain": [
       "<Figure size 432x288 with 1 Axes>"
      ]
     },
     "metadata": {
      "needs_background": "light"
     },
     "output_type": "display_data"
    }
   ],
   "source": [
    "count_plt(train, 'road_type')"
   ]
  },
  {
   "cell_type": "code",
   "execution_count": 22,
   "metadata": {},
   "outputs": [
    {
     "data": {
      "text/plain": [
       "road_type\n",
       "0    41.160930\n",
       "3    49.097125\n",
       "Name: target, dtype: float64"
      ]
     },
     "execution_count": 22,
     "metadata": {},
     "output_type": "execute_result"
    }
   ],
   "source": [
    "train.groupby('road_type')['target'].mean()"
   ]
  },
  {
   "cell_type": "markdown",
   "metadata": {},
   "source": [
    "### 시작지점 회전제한 유무(start_turn_restricted)"
   ]
  },
  {
   "cell_type": "code",
   "execution_count": 67,
   "metadata": {},
   "outputs": [
    {
     "name": "stdout",
     "output_type": "stream",
     "text": [
      "없음    4239701\n",
      "있음     461516\n",
      "Name: start_turn_restricted, dtype: int64\n"
     ]
    },
    {
     "data": {
      "image/png": "[encoded data removed]",
      "text/plain": [
       "<Figure size 432x288 with 1 Axes>"
      ]
     },
     "metadata": {
      "needs_background": "light"
     },
     "output_type": "display_data"
    }
   ],
   "source": [
    "count_plt(train, 'start_turn_restricted')"
   ]
  },
  {
   "cell_type": "code",
   "execution_count": 21,
   "metadata": {},
   "outputs": [
    {
     "data": {
      "text/plain": [
       "start_turn_restricted\n",
       "없음    43.610246\n",
       "있음    35.238967\n",
       "Name: target, dtype: float64"
      ]
     },
     "execution_count": 21,
     "metadata": {},
     "output_type": "execute_result"
    }
   ],
   "source": [
    "train.groupby('start_turn_restricted')['target'].mean()"
   ]
  },
  {
   "cell_type": "markdown",
   "metadata": {},
   "source": [
    "### 도착지점 회전제한 유무(end_turn_restricted)"
   ]
  },
  {
   "cell_type": "code",
   "execution_count": 68,
   "metadata": {},
   "outputs": [
    {
     "name": "stdout",
     "output_type": "stream",
     "text": [
      "없음    4239599\n",
      "있음     461618\n",
      "Name: end_turn_restricted, dtype: int64\n"
     ]
    },
    {
     "data": {
      "image/png": "[encoded data removed]",
      "text/plain": [
       "<Figure size 432x288 with 1 Axes>"
      ]
     },
     "metadata": {
      "needs_background": "light"
     },
     "output_type": "display_data"
    }
   ],
   "source": [
    "count_plt(train, 'end_turn_restricted')"
   ]
  },
  {
   "cell_type": "code",
   "execution_count": 20,
   "metadata": {},
   "outputs": [
    {
     "data": {
      "text/plain": [
       "end_turn_restricted\n",
       "없음    43.645590\n",
       "있음    34.916206\n",
       "Name: target, dtype: float64"
      ]
     },
     "execution_count": 20,
     "metadata": {},
     "output_type": "execute_result"
    }
   ],
   "source": [
    "train.groupby('end_turn_restricted')['target'].mean()"
   ]
  },
  {
   "cell_type": "markdown",
   "metadata": {},
   "source": [
    "### 연결로 코드(connect_code)\n",
    "불균형한 데이터지만 연결로 코드에 따른 속도차이가 확실히 있음  \n",
    "connect_code  \n",
    "0      42.749190  \n",
    "103    57.947043  \n",
    "Name: target, dtype: float64"
   ]
  },
  {
   "cell_type": "code",
   "execution_count": 17,
   "metadata": {},
   "outputs": [
    {
     "name": "stdout",
     "output_type": "stream",
     "text": [
      "0      4689075\n",
      "103      12142\n",
      "Name: connect_code, dtype: int64\n"
     ]
    },
    {
     "data": {
      "image/png": "[encoded data removed]",
      "text/plain": [
       "<Figure size 640x480 with 1 Axes>"
      ]
     },
     "metadata": {},
     "output_type": "display_data"
    }
   ],
   "source": [
    "count_plt(train, 'connect_code')"
   ]
  },
  {
   "cell_type": "markdown",
   "metadata": {},
   "source": [
    "### 통과제한 차량(vehicle_restricted)\n"
   ]
  },
  {
   "cell_type": "code",
   "execution_count": 69,
   "metadata": {},
   "outputs": [
    {
     "name": "stdout",
     "output_type": "stream",
     "text": [
      "0.00000    4701217\n",
      "Name: vehicle_restricted, dtype: int64\n"
     ]
    },
    {
     "data": {
      "image/png": "[encoded data removed]",
      "text/plain": [
       "<Figure size 432x288 with 1 Axes>"
      ]
     },
     "metadata": {
      "needs_background": "light"
     },
     "output_type": "display_data"
    }
   ],
   "source": [
    "count_plt(train, 'vehicle_restricted')"
   ]
  },
  {
   "cell_type": "code",
   "execution_count": 5,
   "metadata": {},
   "outputs": [
    {
     "data": {
      "text/plain": [
       "Location(광양사거리, 동광로, 제주시, 제주특별자치도, 63208, 대한민국, (33.5007202, 126.529048, 0.0))"
      ]
     },
     "execution_count": 5,
     "metadata": {},
     "output_type": "execute_result"
    }
   ],
   "source": [
    "from geopy.geocoders import Nominatim\n",
    "\n",
    "def geocoding_reverse(lat_lng_str): \n",
    "    geolocoder = Nominatim(user_agent = 'South Korea', timeout=None)\n",
    "    address = geolocoder.reverse(lat_lng_str)\n",
    "\n",
    "    return address\n",
    "\n",
    "\n",
    "geocoding_reverse([train['start_latitude'][1], train['start_longitude'][1]])\n"
   ]
  },
  {
   "cell_type": "code",
   "execution_count": 102,
   "metadata": {},
   "outputs": [
    {
     "name": "stdout",
     "output_type": "stream",
     "text": [
      "(4701217, 18)\n",
      "(4701217,)\n"
     ]
    },
    {
     "data": {
      "text/plain": [
       "3.926955248432225"
      ]
     },
     "execution_count": 102,
     "metadata": {},
     "output_type": "execute_result"
    }
   ],
   "source": [
    "# feture 추가에 빠른 베이스라인 코드\n",
    "# 0. baseline 3.9867\n",
    "# 1. 월 추가 후 3.9269\n",
    "# 2. turn_road_rate 추가 후 3.8746\n",
    "# 3. end_turn_road_rate 추가 후 3.8543\n",
    "# 4. \n",
    "str_col = ['day_of_week','start_turn_restricted','end_turn_restricted']\n",
    "for i in str_col:\n",
    "    le = LabelEncoder()\n",
    "    le=le.fit(train[i])\n",
    "    train[i]=le.transform(train[i])\n",
    "    \n",
    "\n",
    "y_train = train['target'] \n",
    "\n",
    "X_train = train.drop(['id','base_date', 'target','road_name', 'start_node_name', 'end_node_name','vehicle_restricted'], axis=1)\n",
    "\n",
    "print(X_train.shape)\n",
    "print(y_train.shape)\n",
    "x_train, x_val, y_train, y_val = train_test_split(X_train, y_train, test_size=0.2, random_state=1103)\n",
    "## 모델 선언 및 학습\n",
    "LR = XGBRegressor(random_state=42).fit(x_train, y_train)\n",
    "## 추론\n",
    "y_pred = LR.predict(x_val)\n",
    "mae = mean_absolute_error(y_val, y_pred)\n",
    "mae"
   ]
  }
 ],
 "metadata": {
  "kernelspec": {
   "display_name": "Python 3.8.12 ('base')",
   "language": "python",
   "name": "python3"
  },
  "language_info": {
   "codemirror_mode": {
    "name": "ipython",
    "version": 3
   },
   "file_extension": ".py",
   "mimetype": "text/x-python",
   "name": "python",
   "nbconvert_exporter": "python",
   "pygments_lexer": "ipython3",
   "version": "3.8.12"
  },
  "orig_nbformat": 4,
  "vscode": {
   "interpreter": {
    "hash": "dc9e9ccc36c3c53c869f9efb4dbe658a531f8632eda95f2a2a2973ff10f33bd1"
   }
  }
 },
 "nbformat": 4,
 "nbformat_minor": 2
}
