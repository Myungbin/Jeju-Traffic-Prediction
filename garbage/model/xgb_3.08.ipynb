{
 "cells": [
  {
   "cell_type": "markdown",
   "metadata": {},
   "source": [
    "#### test score = 3.24"
   ]
  },
  {
   "cell_type": "code",
   "execution_count": 2,
   "metadata": {},
   "outputs": [
    {
     "name": "stdout",
     "output_type": "stream",
     "text": [
      "Train dataset success !\n",
      "Test dataset success !\n"
     ]
    }
   ],
   "source": [
    "from sklearn.model_selection import train_test_split\n",
    "from sklearn.metrics import mean_absolute_error\n",
    "from xgboost import XGBRegressor\n",
    "from dataset import make_dataset\n",
    "from os.path import join\n",
    "\n",
    "\n",
    "train_path = join('jeju_data', 'train_new.parquet')\n",
    "test_path = join('jeju_data', 'test_new.parquet')\n",
    "\n",
    "x_train, y_train, test = make_dataset(train_path, test_path)"
   ]
  },
  {
   "cell_type": "code",
   "execution_count": 5,
   "metadata": {},
   "outputs": [],
   "source": [
    "# X = x_train.copy()\n",
    "# y = y_train.copy()\n",
    "\n",
    "# x_train, x_val, y_train, y_val = train_test_split(x_train, y_train, test_size=0.2, shuffle=True, random_state=1103)"
   ]
  },
  {
   "cell_type": "code",
   "execution_count": 4,
   "metadata": {},
   "outputs": [],
   "source": [
    "param =  {'n_estimators': 2899, 'max_depth': 15, 'min_child_weight': 83, 'gamma': 3, 'colsample_bytree': 0.6447763395139237, 'lambda': 1.6246320763463686, 'alpha': 5.796571916179739, 'subsample': 0.6}"
   ]
  },
  {
   "cell_type": "code",
   "execution_count": 7,
   "metadata": {},
   "outputs": [],
   "source": [
    "model = XGBRegressor(**param, tree_method='gpu_hist', gpu_id=0).fit(x_train, y_train)"
   ]
  },
  {
   "cell_type": "code",
   "execution_count": 8,
   "metadata": {},
   "outputs": [],
   "source": [
    "y_pred = model.predict(test)"
   ]
  },
  {
   "cell_type": "code",
   "execution_count": 9,
   "metadata": {},
   "outputs": [],
   "source": [
    "import pandas as pd\n",
    "sample_submission = pd.read_csv('./jeju_data/sample_submission.csv')\n",
    "sample_submission['target'] = y_pred\n",
    "sample_submission.to_csv(\"./submit_xgb_3.08.csv\", index=False)"
   ]
  },
  {
   "cell_type": "code",
   "execution_count": 12,
   "metadata": {},
   "outputs": [
    {
     "data": {
      "text/plain": [
       "Index(['day_of_week', 'lane_count', 'road_rating', 'multi_linked',\n",
       "       'connect_code', 'maximum_speed_limit', 'weight_restricted',\n",
       "       'height_restricted', 'road_type', 'start_latitude', 'start_longitude',\n",
       "       'start_turn_restricted', 'end_latitude', 'end_longitude',\n",
       "       'end_turn_restricted', 'distance', 'week', 'over_max_speed', 'time',\n",
       "       'sin_time', 'cos_time', 'month'],\n",
       "      dtype='object')"
      ]
     },
     "execution_count": 12,
     "metadata": {},
     "output_type": "execute_result"
    }
   ],
   "source": [
    "x_train.columns"
   ]
  },
  {
   "cell_type": "code",
   "execution_count": 1,
   "metadata": {},
   "outputs": [],
   "source": [
    "# import optuna\n",
    "# from optuna import Trial\n",
    "# from optuna.samplers import TPESampler\n",
    "\n",
    "\n",
    "# def objective_xgb(trial: Trial, x, y):\n",
    "#     params = {\n",
    "#         \"n_estimators\": trial.suggest_int('n_estimators', 500, 4000),\n",
    "#         'max_depth': trial.suggest_int('max_depth', 8, 16),\n",
    "#         'min_child_weight': trial.suggest_int('min_child_weight', 1, 300),\n",
    "#         'gamma': trial.suggest_int('gamma', 1, 3),\n",
    "#         'learning_rate': 0.01,\n",
    "#         \"colsample_bytree\": trial.suggest_float(\"colsample_bytree\", 0.5, 1.0),\n",
    "#         'lambda': trial.suggest_loguniform('lambda', 1e-3, 10.0),\n",
    "#         'alpha': trial.suggest_loguniform('alpha', 1e-3, 10.0),\n",
    "#         'subsample': trial.suggest_categorical('subsample', [0.6, 0.7, 0.8, 1.0]),\n",
    "#         'random_state': 42\n",
    "#     }\n",
    "\n",
    "#     x_train, x_val, y_train, y_val = train_test_split(x, y, test_size=0.2)\n",
    "\n",
    "#     model = XGBRegressor(**params, tree_method='gpu_hist', gpu_id=0)\n",
    "#     xgb_model = model.fit(x_train, y_train, verbose=False, eval_set=[(x_val, y_val)])\n",
    "#     y_pred = xgb_model.predict(x_val)\n",
    "#     score = mean_absolute_error(y_val, y_pred)\n",
    "\n",
    "#     return score\n",
    "\n",
    "\n",
    "# study = optuna.create_study(direction='minimize', sampler=TPESampler())\n",
    "# study.optimize(lambda trial: objective_xgb(trial, X, y), n_trials=10)\n",
    "# print('Best trial: score {},\\nparams {}'.format(study.best_trial.value, study.best_trial.params))\n",
    "\n",
    "# params = study.best_trial.params\n",
    "# xgb_model = XGBRegressor(**params, tree_method='gpu_hist', gpu_id=0).fit(x_train, y_train)\n",
    "# y_pred = xgb_model.predict(test)\n",
    "\n",
    "# import pandas as pd\n",
    "\n",
    "# sample_submission = pd.read_csv('./jeju_data/sample_submission.csv')\n",
    "# sample_submission['target'] = y_pred\n",
    "# sample_submission.to_csv(\"./submit_xgb_optuna.csv\", index=False)"
   ]
  },
  {
   "cell_type": "code",
   "execution_count": null,
   "metadata": {},
   "outputs": [],
   "source": []
  }
 ],
 "metadata": {
  "kernelspec": {
   "display_name": "Python 3.8.10 64-bit",
   "language": "python",
   "name": "python3"
  },
  "language_info": {
   "codemirror_mode": {
    "name": "ipython",
    "version": 3
   },
   "file_extension": ".py",
   "mimetype": "text/x-python",
   "name": "python",
   "nbconvert_exporter": "python",
   "pygments_lexer": "ipython3",
   "version": "3.8.10"
  },
  "orig_nbformat": 4,
  "vscode": {
   "interpreter": {
    "hash": "b081a66ee97bd2b6a16f43955f1d810b7ea816d6eaeb65e157ef9e038445f0c6"
   }
  }
 },
 "nbformat": 4,
 "nbformat_minor": 2
}
