{
 "cells": [
  {
   "cell_type": "markdown",
   "metadata": {},
   "source": [
    "### 필요 라이브러리 정의"
   ]
  },
  {
   "cell_type": "code",
   "execution_count": 1,
   "metadata": {},
   "outputs": [
    {
     "name": "stderr",
     "output_type": "stream",
     "text": [
      "c:\\Users\\kki96\\miniconda3\\lib\\site-packages\\numpy\\_distributor_init.py:30: UserWarning: loaded more than 1 DLL from .libs:\n",
      "c:\\Users\\kki96\\miniconda3\\lib\\site-packages\\numpy\\.libs\\libopenblas.EL2C6PLE4ZYW3ECEVIV3OXXGRN2NRFM2.gfortran-win_amd64.dll\n",
      "c:\\Users\\kki96\\miniconda3\\lib\\site-packages\\numpy\\.libs\\libopenblas.GK7GX5KEQ4F6UYO3P26ULGBQYHGQO7J4.gfortran-win_amd64.dll\n",
      "  warnings.warn(\"loaded more than 1 DLL from .libs:\"\n",
      "c:\\Users\\kki96\\miniconda3\\lib\\site-packages\\xgboost\\compat.py:36: FutureWarning: pandas.Int64Index is deprecated and will be removed from pandas in a future version. Use pandas.Index with the appropriate dtype instead.\n",
      "  from pandas import MultiIndex, Int64Index\n"
     ]
    }
   ],
   "source": [
    "import pandas as pd\n",
    "import folium as g\n",
    "from folium.plugins import MarkerCluster\n",
    "from haversine import haversine\n",
    "from tqdm import tqdm\n",
    "import pandas as pd\n",
    "import numpy as np\n",
    "from sklearn.preprocessing import LabelEncoder\n",
    "from xgboost import XGBRegressor\n",
    "import gc\n",
    "from sklearn.model_selection import train_test_split\n",
    "from sklearn.metrics import mean_absolute_error\n",
    "\n",
    "pd.options.display.float_format = '{:.5f}'.format"
   ]
  },
  {
   "cell_type": "markdown",
   "metadata": {},
   "source": [
    "---"
   ]
  },
  {
   "cell_type": "markdown",
   "metadata": {},
   "source": [
    "### 데이터 로드"
   ]
  },
  {
   "cell_type": "code",
   "execution_count": 2,
   "metadata": {},
   "outputs": [],
   "source": [
    "train = pd.read_parquet('./jeju_data/train.parquet')\n",
    "test = pd.read_parquet('./jeju_data/test.parquet')"
   ]
  },
  {
   "cell_type": "code",
   "execution_count": 3,
   "metadata": {},
   "outputs": [],
   "source": [
    "Train = train.copy()"
   ]
  },
  {
   "cell_type": "markdown",
   "metadata": {},
   "source": [
    "---"
   ]
  },
  {
   "cell_type": "markdown",
   "metadata": {},
   "source": [
    "### feature만드는 함수"
   ]
  },
  {
   "cell_type": "code",
   "execution_count": 9,
   "metadata": {},
   "outputs": [],
   "source": [
    "def make_year(df):\n",
    "    dt = df['base_date'].astype('str')\n",
    "    month_data = pd.to_datetime(dt)\n",
    "    md = month_data.dt.year\n",
    "    return md\n",
    "\n",
    "\n",
    "def make_month(df):\n",
    "    dt = df['base_date'].astype('str')\n",
    "    month_data = pd.to_datetime(dt)\n",
    "    md = month_data.dt.month\n",
    "    return md\n",
    "\n",
    "\n",
    "def make_day(df):\n",
    "    dt = df['base_date'].astype('str')\n",
    "    month_data = pd.to_datetime(dt)\n",
    "    md = month_data.dt.day\n",
    "    return md\n",
    "\n",
    "\n",
    "def turn_road_rate(df):\n",
    "    df.loc[(df['start_turn_restricted'] == '있음') & (df['road_rating'] == 107), 'turn_road_rate'] = 0\n",
    "    df.loc[(df['start_turn_restricted'] == '있음') & (df['road_rating'] == 103), 'turn_road_rate'] = 1\n",
    "    df.loc[(df['start_turn_restricted'] == '없음') & (df['road_rating'] == 107), 'turn_road_rate'] = 2\n",
    "    df.loc[(df['start_turn_restricted'] == '있음') & (df['road_rating'] == 106), 'turn_road_rate'] = 3\n",
    "    df.loc[(df['start_turn_restricted'] == '없음') & (df['road_rating'] == 103), 'turn_road_rate'] = 4\n",
    "    df.loc[(df['start_turn_restricted'] == '없음') & (df['road_rating'] == 106), 'turn_road_rate'] = 5\n",
    "    return df['turn_road_rate']\n",
    "\n",
    "\n",
    "def end_turn_road_rate(df):\n",
    "    df.loc[(df['end_turn_restricted'] == '있음') & (df['road_rating'] == 107), 'end_turn_road_rate'] = 0\n",
    "    df.loc[(df['end_turn_restricted'] == '있음') & (df['road_rating'] == 103), 'end_turn_road_rate'] = 1\n",
    "    df.loc[(df['end_turn_restricted'] == '없음') & (df['road_rating'] == 107), 'end_turn_road_rate'] = 2\n",
    "    df.loc[(df['end_turn_restricted'] == '있음') & (df['road_rating'] == 106), 'end_turn_road_rate'] = 3\n",
    "    df.loc[(df['end_turn_restricted'] == '없음') & (df['road_rating'] == 103), 'end_turn_road_rate'] = 4\n",
    "    df.loc[(df['end_turn_restricted'] == '없음') & (df['road_rating'] == 106), 'end_turn_road_rate'] = 5\n",
    "    return df['end_turn_road_rate']\n",
    "\n",
    "\n",
    "def make_dist(df):\n",
    "    dist = []\n",
    "    for i in tqdm(range(len(df))):\n",
    "        start_location = (df['start_latitude'][i], df['start_longitude'][i])\n",
    "        end_location = (df['end_latitude'][i], df['end_longitude'][i])\n",
    "        \n",
    "        dist.append(haversine(start_location, end_location))\n",
    "\n",
    "    return dist\n",
    "\n",
    "\n",
    "def make_week(df):\n",
    "    dt = df['base_date'].astype('str')\n",
    "    data = pd.to_datetime(dt)\n",
    "\n",
    "    b_list = []\n",
    "    \n",
    "    for i in tqdm(range(len(df))):\n",
    "        b_list.append(data[i].weekday())\n",
    "    \n",
    "    return b_list\n",
    "\n",
    "\n",
    "def week_mapping(df):\n",
    "    if df['week'] <= 4:\n",
    "        val = 0\n",
    "    else:\n",
    "        val = 1\n",
    "    return val\n",
    "\n",
    "\n",
    "# cyclical continuous features - 24-hour time 주기성을 가지는 데이터를 알맞게 변환\n",
    "def cyclical_feature(df):\n",
    "    df['sin_time'] = np.sin(2*np.pi*df.base_hour/24)\n",
    "    df['cos_time'] = np.cos(2*np.pi*df.base_hour/24)\n",
    "    \n",
    "    \n",
    "def over_max_speed(df):\n",
    "    df.loc[(df['maximum_speed_limit'] == 30), 'over_max_speed'] = 1\n",
    "    df.loc[(df['maximum_speed_limit'] == 40), 'over_max_speed'] = 1\n",
    "    df.loc[(df['maximum_speed_limit'] == 50), 'over_max_speed'] = 0\n",
    "    df.loc[(df['maximum_speed_limit'] == 60), 'over_max_speed'] = 0\n",
    "    df.loc[(df['maximum_speed_limit'] == 70), 'over_max_speed'] = 0\n",
    "    df.loc[(df['maximum_speed_limit'] == 80), 'over_max_speed'] = 0\n",
    "    \n",
    "    return df['over_max_speed']\n"
   ]
  },
  {
   "cell_type": "markdown",
   "metadata": {},
   "source": [
    "---"
   ]
  },
  {
   "cell_type": "markdown",
   "metadata": {},
   "source": [
    "### 함수적용"
   ]
  },
  {
   "cell_type": "code",
   "execution_count": 6,
   "metadata": {},
   "outputs": [
    {
     "name": "stderr",
     "output_type": "stream",
     "text": [
      "100%|██████████| 4701217/4701217 [01:58<00:00, 39638.66it/s]\n",
      "100%|██████████| 4701217/4701217 [00:39<00:00, 119146.87it/s]\n"
     ]
    }
   ],
   "source": [
    "tra = make_dist(train)\n",
    "train['year'] = make_year(train)\n",
    "train['month'] = make_month(train)\n",
    "train['day'] = make_day(train)\n",
    "train['turn_road_rate'] = turn_road_rate(train)\n",
    "train['end_turn_road_rate'] = end_turn_road_rate(train)\n",
    "train['distance'] = tra\n",
    "train['week'] = make_week(train)\n",
    "train['week'] = train.apply(week_mapping, axis=1)\n",
    "train['over_max_speed'] = over_max_speed(train)\n",
    "# cyclical_feature(train)\n",
    "\n",
    "# tes = make_dist(test)\n",
    "# test['month'] = make_month(test)\n",
    "# test['day'] = make_day(test)\n",
    "# test['turn_road_rate'] = turn_road_rate(test)\n",
    "# test['end_turn_road_rate'] = end_turn_road_rate(test)\n",
    "# test['distance'] = tes\n",
    "# test['week'] = make_week(test)\n",
    "# test['week'] = test.apply(week_mapping, axis=1)\n",
    "# cyclical_feature(test)"
   ]
  },
  {
   "cell_type": "markdown",
   "metadata": {},
   "source": [
    "---"
   ]
  },
  {
   "cell_type": "code",
   "execution_count": 13,
   "metadata": {},
   "outputs": [],
   "source": [
    "str_col = ['day_of_week', 'start_turn_restricted', 'end_turn_restricted', 'road_name', 'start_node_name', 'end_node_name']\n",
    "for i in str_col:\n",
    "    le = LabelEncoder()\n",
    "    le = le.fit(train[i])\n",
    "    train[i] = le.transform(train[i])\n",
    "\n",
    "    # for label in np.unique(test[i]):\n",
    "    #     if label not in le.classes_:\n",
    "    #         le.classes_ = np.append(le.classes_, label)\n",
    "    # test[i] = le.transform(test[i])\n"
   ]
  },
  {
   "cell_type": "code",
   "execution_count": 14,
   "metadata": {},
   "outputs": [],
   "source": [
    "X = train.drop(\n",
    "    ['id', 'base_date', 'target'], axis=1)\n",
    "\n",
    "y = train['target']\n",
    "\n",
    "# test = test.drop(\n",
    "#     ['id', 'base_date', 'road_name', 'start_node_name', 'end_node_name'], axis=1\n",
    "# )"
   ]
  },
  {
   "cell_type": "code",
   "execution_count": 15,
   "metadata": {},
   "outputs": [],
   "source": [
    "x_train, x_val, y_train, y_val = train_test_split(X, y, test_size=0.2, random_state=1103)"
   ]
  },
  {
   "cell_type": "code",
   "execution_count": 114,
   "metadata": {},
   "outputs": [],
   "source": [
    "# cat_best_parm = {'learning_rate': 0.21020261303127669, 'bagging_temperature': 75.5373108410501, 'n_estimators': 4891, 'max_depth': 12, 'random_strength': 19, 'colsample_bylevel': 0.45647247075797176, 'l2_leaf_reg': 4.82164247062514e-07, 'min_child_samples': 82, 'max_bin': 448, 'od_type': 'IncToDec'}\n",
    "# xgb_best_param = {'n_estimators': 2626, 'max_depth': 15, 'min_child_weight': 39, 'gamma': 1, 'colsample_bytree': 0.8320047615067258, 'lambda': 8.576465850923702, 'alpha': 1.2726833950057483, 'subsample': 0.8}"
   ]
  },
  {
   "cell_type": "code",
   "execution_count": 10,
   "metadata": {},
   "outputs": [],
   "source": [
    "# from catboost import CatBoostRegressor\n",
    "# LR = CatBoostRegressor(iterations=1000).fit(x_train, y_train)\n",
    "# y_pred = LR.predict(x_val)\n",
    "# mae = mean_absolute_error(y_val, y_pred)\n",
    "# print(mae)"
   ]
  },
  {
   "cell_type": "code",
   "execution_count": 16,
   "metadata": {},
   "outputs": [
    {
     "name": "stderr",
     "output_type": "stream",
     "text": [
      "c:\\Users\\kki96\\miniconda3\\lib\\site-packages\\xgboost\\data.py:262: FutureWarning: pandas.Int64Index is deprecated and will be removed from pandas in a future version. Use pandas.Index with the appropriate dtype instead.\n",
      "  elif isinstance(data.columns, (pd.Int64Index, pd.RangeIndex)):\n"
     ]
    },
    {
     "name": "stdout",
     "output_type": "stream",
     "text": [
      "3.807563939209401\n"
     ]
    }
   ],
   "source": [
    "LR = XGBRegressor().fit(x_train, y_train)\n",
    "y_pred = LR.predict(x_val)\n",
    "mae = mean_absolute_error(y_val, y_pred)\n",
    "print(mae)"
   ]
  },
  {
   "cell_type": "code",
   "execution_count": null,
   "metadata": {},
   "outputs": [],
   "source": [
    "sample_submission = pd.read_csv('./data/sample_submission.csv')\n",
    "sample_submission['target'] = pred\n",
    "sample_submission.to_csv(\"./submit_xgb.csv\", index=False)"
   ]
  },
  {
   "cell_type": "code",
   "execution_count": null,
   "metadata": {},
   "outputs": [],
   "source": [
    "# import optuna\n",
    "# from optuna import Trial\n",
    "# from optuna.samplers import TPESampler\n",
    "# from catboost import CatBoostRegressor\n",
    "\n",
    "# def objective_xgb(trial: Trial, x_value, y_value):\n",
    "#     param = {\n",
    "#         \"random_state\":42,\n",
    "#         'learning_rate' : trial.suggest_loguniform('learning_rate', 0.01, 0.3),\n",
    "#         'bagging_temperature' :trial.suggest_loguniform('bagging_temperature', 0.01, 100.00),\n",
    "#         \"n_estimators\":trial.suggest_int(\"n_estimators\", 1000, 10000),\n",
    "#         \"max_depth\":trial.suggest_int(\"max_depth\", 4, 16),\n",
    "#         'random_strength' :trial.suggest_int('random_strength', 0, 100),\n",
    "#         \"colsample_bylevel\":trial.suggest_float(\"colsample_bylevel\", 0.4, 1.0),\n",
    "#         \"l2_leaf_reg\":trial.suggest_float(\"l2_leaf_reg\",1e-8,3e-5),\n",
    "#         \"min_child_samples\": trial.suggest_int(\"min_child_samples\", 5, 100),\n",
    "#         \"max_bin\": trial.suggest_int(\"max_bin\", 200, 500),\n",
    "#         'od_type': trial.suggest_categorical('od_type', ['IncToDec', 'Iter']),\n",
    "#     }\n",
    "\n",
    "#     x_train, x_val, y_train, y_val = train_test_split(x_value, y_value, test_size=0.3, random_state=1103)\n",
    "#     cat_model = CatBoostRegressor(**param)\n",
    "#     cat_model = cat_model.fit(x_train, y_train, verbose=False, eval_set=[(x_val, y_val)])\n",
    "#     score = mean_absolute_error(cat_model.predict(x_val), y_val)\n",
    "#     return score\n",
    "\n",
    "# study = optuna.create_study(direction='minimize', sampler=TPESampler())\n",
    "# study.optimize(lambda trial: objective_xgb(trial, X, y), n_trials=30)\n",
    "# print('Best trial: score {},\\nparams {}'.format(study.best_trial.value, study.best_trial.params))"
   ]
  }
 ],
 "metadata": {
  "kernelspec": {
   "display_name": "Python 3.8.12 ('base')",
   "language": "python",
   "name": "python3"
  },
  "language_info": {
   "codemirror_mode": {
    "name": "ipython",
    "version": 3
   },
   "file_extension": ".py",
   "mimetype": "text/x-python",
   "name": "python",
   "nbconvert_exporter": "python",
   "pygments_lexer": "ipython3",
   "version": "3.8.12"
  },
  "orig_nbformat": 4,
  "vscode": {
   "interpreter": {
    "hash": "dc9e9ccc36c3c53c869f9efb4dbe658a531f8632eda95f2a2a2973ff10f33bd1"
   }
  }
 },
 "nbformat": 4,
 "nbformat_minor": 2
}
