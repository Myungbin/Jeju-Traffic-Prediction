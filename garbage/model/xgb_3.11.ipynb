{
 "cells": [
  {
   "cell_type": "markdown",
   "metadata": {},
   "source": [
    "#### test score = 3.19666"
   ]
  },
  {
   "cell_type": "code",
   "execution_count": 1,
   "metadata": {},
   "outputs": [
    {
     "name": "stdout",
     "output_type": "stream",
     "text": [
      "Train dataset success !\n",
      "Test dataset success !\n"
     ]
    }
   ],
   "source": [
    "from sklearn.model_selection import train_test_split\n",
    "from sklearn.metrics import mean_absolute_error\n",
    "from xgboost import XGBRegressor\n",
    "from dataset import make_dataset\n",
    "from os.path import join\n",
    "\n",
    "\n",
    "train_path = join('jeju_data', 'train_new.parquet')\n",
    "test_path = join('jeju_data', 'test_new.parquet')\n",
    "\n",
    "x_train, y_train, test = make_dataset(train_path, test_path)"
   ]
  },
  {
   "cell_type": "code",
   "execution_count": 5,
   "metadata": {},
   "outputs": [],
   "source": [
    "X = x_train.copy()\n",
    "y = y_train.copy()\n",
    "\n",
    "x_train, x_val, y_train, y_val = train_test_split(x_train, y_train, test_size=0.2, shuffle=True, random_state=1103)"
   ]
  },
  {
   "cell_type": "code",
   "execution_count": 7,
   "metadata": {},
   "outputs": [
    {
     "data": {
      "text/plain": [
       "3.8581919912014215"
      ]
     },
     "execution_count": 7,
     "metadata": {},
     "output_type": "execute_result"
    }
   ],
   "source": [
    "model = XGBRegressor(tree_method='gpu_hist', gpu_id=0).fit(x_train, y_train)\n",
    "y_pred = model.predict(x_val)\n",
    "mean_absolute_error(y_val, y_pred)"
   ]
  },
  {
   "cell_type": "code",
   "execution_count": 12,
   "metadata": {},
   "outputs": [
    {
     "data": {
      "text/plain": [
       "Index(['day_of_week', 'lane_count', 'road_rating', 'multi_linked',\n",
       "       'connect_code', 'maximum_speed_limit', 'weight_restricted',\n",
       "       'height_restricted', 'road_type', 'start_latitude', 'start_longitude',\n",
       "       'start_turn_restricted', 'end_latitude', 'end_longitude',\n",
       "       'end_turn_restricted', 'distance', 'week', 'over_max_speed', 'time',\n",
       "       'sin_time', 'cos_time', 'month'],\n",
       "      dtype='object')"
      ]
     },
     "execution_count": 12,
     "metadata": {},
     "output_type": "execute_result"
    }
   ],
   "source": [
    "x_train.columns"
   ]
  },
  {
   "cell_type": "code",
   "execution_count": 10,
   "metadata": {},
   "outputs": [
    {
     "name": "stderr",
     "output_type": "stream",
     "text": [
      "\u001b[32m[I 2022-10-14 16:11:35,278]\u001b[0m A new study created in memory with name: no-name-02b87cd9-9745-40a8-8a07-fa8fdfb8579e\u001b[0m\n",
      "C:\\Users\\jkpark\\AppData\\Local\\Temp\\ipykernel_5692\\3782901191.py:14: FutureWarning: suggest_loguniform has been deprecated in v3.0.0. This feature will be removed in v6.0.0. See https://github.com/optuna/optuna/releases/tag/v3.0.0. Use :func:`~optuna.trial.Trial.suggest_float` instead.\n",
      "  'lambda': trial.suggest_loguniform('lambda', 1e-3, 10.0),\n",
      "C:\\Users\\jkpark\\AppData\\Local\\Temp\\ipykernel_5692\\3782901191.py:15: FutureWarning: suggest_loguniform has been deprecated in v3.0.0. This feature will be removed in v6.0.0. See https://github.com/optuna/optuna/releases/tag/v3.0.0. Use :func:`~optuna.trial.Trial.suggest_float` instead.\n",
      "  'alpha': trial.suggest_loguniform('alpha', 1e-3, 10.0),\n",
      "\u001b[32m[I 2022-10-14 16:24:15,728]\u001b[0m Trial 0 finished with value: 3.1168892183071804 and parameters: {'n_estimators': 2886, 'max_depth': 15, 'min_child_weight': 139, 'gamma': 2, 'colsample_bytree': 0.5835912825501288, 'lambda': 0.018776374001998226, 'alpha': 0.24458911485627424, 'subsample': 1.0}. Best is trial 0 with value: 3.1168892183071804.\u001b[0m\n",
      "C:\\Users\\jkpark\\AppData\\Local\\Temp\\ipykernel_5692\\3782901191.py:14: FutureWarning: suggest_loguniform has been deprecated in v3.0.0. This feature will be removed in v6.0.0. See https://github.com/optuna/optuna/releases/tag/v3.0.0. Use :func:`~optuna.trial.Trial.suggest_float` instead.\n",
      "  'lambda': trial.suggest_loguniform('lambda', 1e-3, 10.0),\n",
      "C:\\Users\\jkpark\\AppData\\Local\\Temp\\ipykernel_5692\\3782901191.py:15: FutureWarning: suggest_loguniform has been deprecated in v3.0.0. This feature will be removed in v6.0.0. See https://github.com/optuna/optuna/releases/tag/v3.0.0. Use :func:`~optuna.trial.Trial.suggest_float` instead.\n",
      "  'alpha': trial.suggest_loguniform('alpha', 1e-3, 10.0),\n",
      "\u001b[32m[I 2022-10-14 16:25:34,566]\u001b[0m Trial 1 finished with value: 3.481380082423414 and parameters: {'n_estimators': 1072, 'max_depth': 10, 'min_child_weight': 198, 'gamma': 3, 'colsample_bytree': 0.7191773655711338, 'lambda': 9.86334333395884, 'alpha': 0.020138259161696922, 'subsample': 0.6}. Best is trial 0 with value: 3.1168892183071804.\u001b[0m\n",
      "C:\\Users\\jkpark\\AppData\\Local\\Temp\\ipykernel_5692\\3782901191.py:14: FutureWarning: suggest_loguniform has been deprecated in v3.0.0. This feature will be removed in v6.0.0. See https://github.com/optuna/optuna/releases/tag/v3.0.0. Use :func:`~optuna.trial.Trial.suggest_float` instead.\n",
      "  'lambda': trial.suggest_loguniform('lambda', 1e-3, 10.0),\n",
      "C:\\Users\\jkpark\\AppData\\Local\\Temp\\ipykernel_5692\\3782901191.py:15: FutureWarning: suggest_loguniform has been deprecated in v3.0.0. This feature will be removed in v6.0.0. See https://github.com/optuna/optuna/releases/tag/v3.0.0. Use :func:`~optuna.trial.Trial.suggest_float` instead.\n",
      "  'alpha': trial.suggest_loguniform('alpha', 1e-3, 10.0),\n",
      "\u001b[32m[I 2022-10-14 16:32:00,753]\u001b[0m Trial 2 finished with value: 3.1526400620321646 and parameters: {'n_estimators': 3937, 'max_depth': 12, 'min_child_weight': 124, 'gamma': 3, 'colsample_bytree': 0.7031703124561081, 'lambda': 0.01125535282865124, 'alpha': 0.12463152746225843, 'subsample': 1.0}. Best is trial 0 with value: 3.1168892183071804.\u001b[0m\n",
      "C:\\Users\\jkpark\\AppData\\Local\\Temp\\ipykernel_5692\\3782901191.py:14: FutureWarning: suggest_loguniform has been deprecated in v3.0.0. This feature will be removed in v6.0.0. See https://github.com/optuna/optuna/releases/tag/v3.0.0. Use :func:`~optuna.trial.Trial.suggest_float` instead.\n",
      "  'lambda': trial.suggest_loguniform('lambda', 1e-3, 10.0),\n",
      "C:\\Users\\jkpark\\AppData\\Local\\Temp\\ipykernel_5692\\3782901191.py:15: FutureWarning: suggest_loguniform has been deprecated in v3.0.0. This feature will be removed in v6.0.0. See https://github.com/optuna/optuna/releases/tag/v3.0.0. Use :func:`~optuna.trial.Trial.suggest_float` instead.\n",
      "  'alpha': trial.suggest_loguniform('alpha', 1e-3, 10.0),\n",
      "\u001b[32m[I 2022-10-14 16:41:35,912]\u001b[0m Trial 3 finished with value: 3.121884899186548 and parameters: {'n_estimators': 1750, 'max_depth': 15, 'min_child_weight': 232, 'gamma': 3, 'colsample_bytree': 0.972621410721593, 'lambda': 0.43807628497952744, 'alpha': 0.17886695542247175, 'subsample': 0.7}. Best is trial 0 with value: 3.1168892183071804.\u001b[0m\n",
      "C:\\Users\\jkpark\\AppData\\Local\\Temp\\ipykernel_5692\\3782901191.py:14: FutureWarning: suggest_loguniform has been deprecated in v3.0.0. This feature will be removed in v6.0.0. See https://github.com/optuna/optuna/releases/tag/v3.0.0. Use :func:`~optuna.trial.Trial.suggest_float` instead.\n",
      "  'lambda': trial.suggest_loguniform('lambda', 1e-3, 10.0),\n",
      "C:\\Users\\jkpark\\AppData\\Local\\Temp\\ipykernel_5692\\3782901191.py:15: FutureWarning: suggest_loguniform has been deprecated in v3.0.0. This feature will be removed in v6.0.0. See https://github.com/optuna/optuna/releases/tag/v3.0.0. Use :func:`~optuna.trial.Trial.suggest_float` instead.\n",
      "  'alpha': trial.suggest_loguniform('alpha', 1e-3, 10.0),\n",
      "\u001b[32m[I 2022-10-14 16:49:02,740]\u001b[0m Trial 4 finished with value: 3.155169153593756 and parameters: {'n_estimators': 3767, 'max_depth': 13, 'min_child_weight': 201, 'gamma': 2, 'colsample_bytree': 0.7803731331684595, 'lambda': 0.13593489024983108, 'alpha': 0.0022874377181617894, 'subsample': 1.0}. Best is trial 0 with value: 3.1168892183071804.\u001b[0m\n",
      "C:\\Users\\jkpark\\AppData\\Local\\Temp\\ipykernel_5692\\3782901191.py:14: FutureWarning: suggest_loguniform has been deprecated in v3.0.0. This feature will be removed in v6.0.0. See https://github.com/optuna/optuna/releases/tag/v3.0.0. Use :func:`~optuna.trial.Trial.suggest_float` instead.\n",
      "  'lambda': trial.suggest_loguniform('lambda', 1e-3, 10.0),\n",
      "C:\\Users\\jkpark\\AppData\\Local\\Temp\\ipykernel_5692\\3782901191.py:15: FutureWarning: suggest_loguniform has been deprecated in v3.0.0. This feature will be removed in v6.0.0. See https://github.com/optuna/optuna/releases/tag/v3.0.0. Use :func:`~optuna.trial.Trial.suggest_float` instead.\n",
      "  'alpha': trial.suggest_loguniform('alpha', 1e-3, 10.0),\n",
      "\u001b[32m[I 2022-10-14 16:51:44,905]\u001b[0m Trial 5 finished with value: 3.2878783201678483 and parameters: {'n_estimators': 1255, 'max_depth': 11, 'min_child_weight': 173, 'gamma': 2, 'colsample_bytree': 0.7265747653375689, 'lambda': 0.01928928000806584, 'alpha': 2.607926048611254, 'subsample': 1.0}. Best is trial 0 with value: 3.1168892183071804.\u001b[0m\n",
      "C:\\Users\\jkpark\\AppData\\Local\\Temp\\ipykernel_5692\\3782901191.py:14: FutureWarning: suggest_loguniform has been deprecated in v3.0.0. This feature will be removed in v6.0.0. See https://github.com/optuna/optuna/releases/tag/v3.0.0. Use :func:`~optuna.trial.Trial.suggest_float` instead.\n",
      "  'lambda': trial.suggest_loguniform('lambda', 1e-3, 10.0),\n",
      "C:\\Users\\jkpark\\AppData\\Local\\Temp\\ipykernel_5692\\3782901191.py:15: FutureWarning: suggest_loguniform has been deprecated in v3.0.0. This feature will be removed in v6.0.0. See https://github.com/optuna/optuna/releases/tag/v3.0.0. Use :func:`~optuna.trial.Trial.suggest_float` instead.\n",
      "  'alpha': trial.suggest_loguniform('alpha', 1e-3, 10.0),\n",
      "\u001b[32m[I 2022-10-14 16:55:40,599]\u001b[0m Trial 6 finished with value: 3.225248746728508 and parameters: {'n_estimators': 2661, 'max_depth': 10, 'min_child_weight': 26, 'gamma': 3, 'colsample_bytree': 0.7129154307338805, 'lambda': 0.021187864657116275, 'alpha': 1.0042796863200854, 'subsample': 0.8}. Best is trial 0 with value: 3.1168892183071804.\u001b[0m\n",
      "C:\\Users\\jkpark\\AppData\\Local\\Temp\\ipykernel_5692\\3782901191.py:14: FutureWarning: suggest_loguniform has been deprecated in v3.0.0. This feature will be removed in v6.0.0. See https://github.com/optuna/optuna/releases/tag/v3.0.0. Use :func:`~optuna.trial.Trial.suggest_float` instead.\n",
      "  'lambda': trial.suggest_loguniform('lambda', 1e-3, 10.0),\n",
      "C:\\Users\\jkpark\\AppData\\Local\\Temp\\ipykernel_5692\\3782901191.py:15: FutureWarning: suggest_loguniform has been deprecated in v3.0.0. This feature will be removed in v6.0.0. See https://github.com/optuna/optuna/releases/tag/v3.0.0. Use :func:`~optuna.trial.Trial.suggest_float` instead.\n",
      "  'alpha': trial.suggest_loguniform('alpha', 1e-3, 10.0),\n",
      "\u001b[32m[I 2022-10-14 17:02:52,874]\u001b[0m Trial 7 finished with value: 3.153819134972959 and parameters: {'n_estimators': 3690, 'max_depth': 12, 'min_child_weight': 240, 'gamma': 3, 'colsample_bytree': 0.5994698198643342, 'lambda': 1.053856252167601, 'alpha': 0.010236339469466676, 'subsample': 0.6}. Best is trial 0 with value: 3.1168892183071804.\u001b[0m\n",
      "C:\\Users\\jkpark\\AppData\\Local\\Temp\\ipykernel_5692\\3782901191.py:14: FutureWarning: suggest_loguniform has been deprecated in v3.0.0. This feature will be removed in v6.0.0. See https://github.com/optuna/optuna/releases/tag/v3.0.0. Use :func:`~optuna.trial.Trial.suggest_float` instead.\n",
      "  'lambda': trial.suggest_loguniform('lambda', 1e-3, 10.0),\n",
      "C:\\Users\\jkpark\\AppData\\Local\\Temp\\ipykernel_5692\\3782901191.py:15: FutureWarning: suggest_loguniform has been deprecated in v3.0.0. This feature will be removed in v6.0.0. See https://github.com/optuna/optuna/releases/tag/v3.0.0. Use :func:`~optuna.trial.Trial.suggest_float` instead.\n",
      "  'alpha': trial.suggest_loguniform('alpha', 1e-3, 10.0),\n",
      "\u001b[32m[I 2022-10-14 17:08:00,505]\u001b[0m Trial 8 finished with value: 3.184510311020213 and parameters: {'n_estimators': 1350, 'max_depth': 12, 'min_child_weight': 75, 'gamma': 1, 'colsample_bytree': 0.7872005715707637, 'lambda': 1.2117507177448457, 'alpha': 0.09066558108733856, 'subsample': 1.0}. Best is trial 0 with value: 3.1168892183071804.\u001b[0m\n",
      "C:\\Users\\jkpark\\AppData\\Local\\Temp\\ipykernel_5692\\3782901191.py:14: FutureWarning: suggest_loguniform has been deprecated in v3.0.0. This feature will be removed in v6.0.0. See https://github.com/optuna/optuna/releases/tag/v3.0.0. Use :func:`~optuna.trial.Trial.suggest_float` instead.\n",
      "  'lambda': trial.suggest_loguniform('lambda', 1e-3, 10.0),\n",
      "C:\\Users\\jkpark\\AppData\\Local\\Temp\\ipykernel_5692\\3782901191.py:15: FutureWarning: suggest_loguniform has been deprecated in v3.0.0. This feature will be removed in v6.0.0. See https://github.com/optuna/optuna/releases/tag/v3.0.0. Use :func:`~optuna.trial.Trial.suggest_float` instead.\n",
      "  'alpha': trial.suggest_loguniform('alpha', 1e-3, 10.0),\n",
      "\u001b[32m[I 2022-10-14 17:09:43,634]\u001b[0m Trial 9 finished with value: 3.4155643541876666 and parameters: {'n_estimators': 1978, 'max_depth': 9, 'min_child_weight': 124, 'gamma': 2, 'colsample_bytree': 0.7956439901947906, 'lambda': 0.0018561410777726633, 'alpha': 2.161824391615631, 'subsample': 1.0}. Best is trial 0 with value: 3.1168892183071804.\u001b[0m\n"
     ]
    },
    {
     "name": "stdout",
     "output_type": "stream",
     "text": [
      "Best trial: score 3.1168892183071804,\n",
      "params {'n_estimators': 2886, 'max_depth': 15, 'min_child_weight': 139, 'gamma': 2, 'colsample_bytree': 0.5835912825501288, 'lambda': 0.018776374001998226, 'alpha': 0.24458911485627424, 'subsample': 1.0}\n"
     ]
    }
   ],
   "source": [
    "import optuna\n",
    "from optuna import Trial\n",
    "from optuna.samplers import TPESampler\n",
    "\n",
    "\n",
    "def objective_xgb(trial: Trial, x, y):\n",
    "    params = {\n",
    "        \"n_estimators\": trial.suggest_int('n_estimators', 500, 4000),\n",
    "        'max_depth': trial.suggest_int('max_depth', 8, 16),\n",
    "        'min_child_weight': trial.suggest_int('min_child_weight', 1, 300),\n",
    "        'gamma': trial.suggest_int('gamma', 1, 3),\n",
    "        'learning_rate': 0.01,\n",
    "        \"colsample_bytree\": trial.suggest_float(\"colsample_bytree\", 0.5, 1.0),\n",
    "        'lambda': trial.suggest_loguniform('lambda', 1e-3, 10.0),\n",
    "        'alpha': trial.suggest_loguniform('alpha', 1e-3, 10.0),\n",
    "        'subsample': trial.suggest_categorical('subsample', [0.6, 0.7, 0.8, 1.0]),\n",
    "        'random_state': 42\n",
    "    }\n",
    "\n",
    "    x_train, x_val, y_train, y_val = train_test_split(x, y, test_size=0.2)\n",
    "\n",
    "    model = XGBRegressor(**params, tree_method='gpu_hist', gpu_id=0)\n",
    "    xgb_model = model.fit(x_train, y_train, verbose=False, eval_set=[(x_val, y_val)])\n",
    "    y_pred = xgb_model.predict(x_val)\n",
    "    score = mean_absolute_error(y_val, y_pred)\n",
    "\n",
    "    return score\n",
    "\n",
    "\n",
    "study = optuna.create_study(direction='minimize', sampler=TPESampler())\n",
    "study.optimize(lambda trial: objective_xgb(trial, X, y), n_trials=10)\n",
    "print('Best trial: score {},\\nparams {}'.format(study.best_trial.value, study.best_trial.params))\n",
    "\n",
    "params = study.best_trial.params\n",
    "xgb_model = XGBRegressor(**params, tree_method='gpu_hist', gpu_id=0).fit(x_train, y_train)\n",
    "y_pred = xgb_model.predict(test)\n",
    "\n",
    "import pandas as pd\n",
    "\n",
    "sample_submission = pd.read_csv('./jeju_data/sample_submission.csv')\n",
    "sample_submission['target'] = y_pred\n",
    "sample_submission.to_csv(\"./submit_xgb_optuna.csv\", index=False)"
   ]
  }
 ],
 "metadata": {
  "kernelspec": {
   "display_name": "Python 3.8.12 ('base')",
   "language": "python",
   "name": "python3"
  },
  "language_info": {
   "codemirror_mode": {
    "name": "ipython",
    "version": 3
   },
   "file_extension": ".py",
   "mimetype": "text/x-python",
   "name": "python",
   "nbconvert_exporter": "python",
   "pygments_lexer": "ipython3",
   "version": "3.8.12"
  },
  "orig_nbformat": 4,
  "vscode": {
   "interpreter": {
    "hash": "dc9e9ccc36c3c53c869f9efb4dbe658a531f8632eda95f2a2a2973ff10f33bd1"
   }
  }
 },
 "nbformat": 4,
 "nbformat_minor": 2
}
