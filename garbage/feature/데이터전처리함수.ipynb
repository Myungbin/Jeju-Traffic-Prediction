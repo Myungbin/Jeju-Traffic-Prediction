{
  "cells": [
    {
      "cell_type": "code",
      "execution_count": null,
      "metadata": {},
      "outputs": [],
      "source": []
    },
    {
      "cell_type": "code",
      "execution_count": 5,
      "metadata": {
        "colab": {
          "base_uri": "https://localhost:8080/"
        },
        "id": "56QqAESDbwV5",
        "outputId": "33fbf514-7e6c-45f7-8787-d362f75f58d3"
      },
      "outputs": [
        {
          "name": "stdout",
          "output_type": "stream",
          "text": [
            "train Done.\n",
            "test Done.\n"
          ]
        }
      ],
      "source": [
        "import gc\n",
        "def csv_to_parquet(csv_path, save_name):\n",
        "    df = pd.read_csv(csv_path)\n",
        "    df.to_parquet(f'./{save_name}.parquet')\n",
        "    del df\n",
        "    gc.collect()\n",
        "    print(save_name, 'Done.')\n",
        "csv_to_parquet('/content/drive/MyDrive/제주도/Data/train.csv', 'train')\n",
        "csv_to_parquet('/content/drive/MyDrive/제주도/Data/test.csv', 'test')\n",
        "train = pd.read_parquet('./train.parquet')\n",
        "test = pd.read_parquet('./test.parquet')"
      ]
    },
    {
      "cell_type": "code",
      "execution_count": 19,
      "metadata": {
        "id": "O1Bv9cy5abEB"
      },
      "outputs": [],
      "source": [
        "import pandas as pd\n",
        "from sklearn.preprocessing import LabelEncoder\n",
        "from datetime import datetime\n",
        "\n",
        "################### 국도/지방도/로/교 에 따른 분류 ##################\n",
        "def road_name_new(df): # NaN 값 들어가있는지 확인필요\n",
        "  df['road_name_new']='0'\n",
        "  df.loc[(df['road_name'].str.contains('국도')), 'road_name_new'] = 'a'\n",
        "  df.loc[(df['road_name'].str.contains('지방도')), 'road_name_new'] = 'a'\n",
        "  df.loc[(df['road_name'].str.contains('로')), 'road_name_new'] = 'b'\n",
        "  df.loc[(df['road_name'].str.contains('교')), 'road_name_new'] = 'b'\n",
        "  df.loc[(df['road_name'].str.contains('국_지_도')), 'road_name_new'] = 'a'\n",
        "  df.loc[(df['road_name_new'].str.contains('0')), 'road_name_new'] = 'a'\n",
        "  return df['road_name_new']\n",
        "\n",
        "################# 시작 위도 - 끝 위도 ##########\n",
        "def move_latitude(df):\n",
        "  return abs(df['start_latitude']-df['end_latitude'])*1000\n",
        "\n",
        "def move_longitude(df):\n",
        "  return abs(df['start_longitude']-df['end_longitude'])*1000\n",
        "\n",
        "def move_lat_lng(df):\n",
        "      df['move_lat'] = abs(df['start_latitude']-df['end_latitude'])*1000\n",
        "      df['move_lng'] = abs(df['start_longitude']-df['end_longitude'])*1000\n",
        "      \n",
        "\n",
        "##################### weight_restricted 관련 ################\n",
        "def weight_restricted_new(df) :\n",
        "  df['weight_restricted_new']='0'\n",
        "  df.loc[(df['weight_restricted']== 0) , 'weight_restricted_new'] = 'a'\n",
        "  df.loc[(df['weight_restricted']== 32400) , 'weight_restricted_new'] = 'b'\n",
        "  df.loc[(df['weight_restricted']== 43200) , 'weight_restricted_new'] = 'c'\n",
        "  df.loc[(df['weight_restricted']== 50000) , 'weight_restricted_new'] = 'b'\n",
        "  df.loc[(df['weight_restricted_new']== '0') , 'weight_restricted_new'] = 'a'\n",
        "  return df['weight_restricted_new']\n",
        "\n",
        "############ day of week -> target값에 따라 그룹핑한거 ###############3\n",
        "def day_of_week_2(df):\n",
        "  df.loc[(df['day_of_week']== '월') , 'day_of_week_2'] = 'a'\n",
        "  df.loc[(df['day_of_week']== '화') , 'day_of_week_2'] = 'a'\n",
        "  df.loc[(df['day_of_week']== '수') , 'day_of_week_2'] = 'a'\n",
        "  df.loc[(df['day_of_week']== '목') , 'day_of_week_2'] = 'a'\n",
        "  df.loc[(df['day_of_week']== '금') , 'day_of_week_2'] = 'b'\n",
        "  df.loc[(df['day_of_week']== '토') , 'day_of_week_2'] = 'a'\n",
        "  df.loc[(df['day_of_week']== '일') , 'day_of_week_2'] = 'c'\n",
        "  return df['day_of_week_2']\n",
        "\n",
        "################# base hour -> target 값에 따라 그룹핑한거\n",
        "def base_hour_2(df):\n",
        "  df.loc[(df['base_hour']== 0) , 'base_hour_2'] = 'c'\n",
        "  df.loc[(df['base_hour']== 1) , 'base_hour_2'] = 'c'\n",
        "  df.loc[(df['base_hour']== 2) , 'base_hour_2'] = 'c'\n",
        "  df.loc[(df['base_hour']== 3) , 'base_hour_2'] = 'c'\n",
        "  df.loc[(df['base_hour']== 4) , 'base_hour_2'] = 'c'\n",
        "  df.loc[(df['base_hour']== 5) , 'base_hour_2'] = 'a'\n",
        "  df.loc[(df['base_hour']== 6) , 'base_hour_2'] = 'a'\n",
        "  df.loc[(df['base_hour']== 7) , 'base_hour_2'] = 'a'\n",
        "  df.loc[(df['base_hour']== 8) , 'base_hour_2'] = 'b'\n",
        "  df.loc[(df['base_hour']== 9) , 'base_hour_2'] = 'b'\n",
        "  df.loc[(df['base_hour']== 10) , 'base_hour_2'] = 'b'\n",
        "  df.loc[(df['base_hour']== 11) , 'base_hour_2'] = 'b'\n",
        "  df.loc[(df['base_hour']== 12) , 'base_hour_2'] = 'b'\n",
        "  df.loc[(df['base_hour']== 13) , 'base_hour_2'] = 'b'\n",
        "  df.loc[(df['base_hour']== 14) , 'base_hour_2'] = 'b'\n",
        "  df.loc[(df['base_hour']== 15) , 'base_hour_2'] = 'b'\n",
        "  df.loc[(df['base_hour']== 16) , 'base_hour_2'] = 'b'\n",
        "  df.loc[(df['base_hour']== 17) , 'base_hour_2'] = 'b'\n",
        "  df.loc[(df['base_hour']== 18) , 'base_hour_2'] = 'b'\n",
        "  df.loc[(df['base_hour']== 19) , 'base_hour_2'] = 'b'\n",
        "  df.loc[(df['base_hour']== 20) , 'base_hour_2'] = 'b'\n",
        "  df.loc[(df['base_hour']== 21) , 'base_hour_2'] = 'a'\n",
        "  df.loc[(df['base_hour']== 22) , 'base_hour_2'] = 'a'\n",
        "  df.loc[(df['base_hour']== 23) , 'base_hour_2'] = 'a'\n",
        "  return df['base_hour_2']\n",
        "\n",
        "############ 시작 노드 끝 노드 같은지 ###########3\n",
        "def node_tf(df):\n",
        "  return df['start_node_name'] == df['end_node_name']\n",
        "\n",
        "############ 위도 경도 min-max-scaler ###############\n",
        "def start_latitude_MinMax(df):\n",
        "  from sklearn.preprocessing import MinMaxScaler\n",
        "  scaler = MinMaxScaler()\n",
        "  return scaler.fit_transform(df['start_latitude'].values.reshape(-1,1))\n",
        "\n",
        "def start_longitude_MinMax(df):\n",
        "  from sklearn.preprocessing import MinMaxScaler\n",
        "  scaler = MinMaxScaler()\n",
        "  return scaler.fit_transform(df['start_longitude'].values.reshape(-1,1))\n",
        "\n",
        "def end_latitude_MinMax(df):\n",
        "  from sklearn.preprocessing import MinMaxScaler\n",
        "  scaler = MinMaxScaler()\n",
        "  return scaler.fit_transform(df['end_latitude'].values.reshape(-1,1))\n",
        "\n",
        "def end_longitude_MinMax(df):\n",
        "  from sklearn.preprocessing import MinMaxScaler\n",
        "  scaler = MinMaxScaler()\n",
        "  return scaler.fit_transform(df['end_longitude'].values.reshape(-1,1))\n",
        "\n",
        "########## 위도경도 33, 126 빼준값 ###########\n",
        "def start_latitude_scale(df):\n",
        "  return df['start_latitude'] - 33\n",
        "\n",
        "def end_latitude_scale(df):\n",
        "  return df['end_latitude'] - 33\n",
        "\n",
        "def start_longitude_scale(df):\n",
        "  return df['start_longitude'] - 126\n",
        "\n",
        "def end_longitude_scale(df):\n",
        "  return df['end_longitude'] - 126\n",
        "\n",
        "############# 로그변환 ####################\n",
        "def make_log(df,col):\n",
        "  import math\n",
        "  return df[col].apply(lambda x : math.log(x))\n"
      ]
    }
  ],
  "metadata": {
    "colab": {
      "collapsed_sections": [],
      "provenance": []
    },
    "kernelspec": {
      "display_name": "Python 3.8.10 64-bit",
      "language": "python",
      "name": "python3"
    },
    "language_info": {
      "name": "python",
      "version": "3.8.10"
    },
    "vscode": {
      "interpreter": {
        "hash": "b081a66ee97bd2b6a16f43955f1d810b7ea816d6eaeb65e157ef9e038445f0c6"
      }
    }
  },
  "nbformat": 4,
  "nbformat_minor": 0
}
